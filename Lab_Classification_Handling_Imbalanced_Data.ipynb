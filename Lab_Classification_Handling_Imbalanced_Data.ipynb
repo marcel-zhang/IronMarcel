{
 "cells": [
  {
   "cell_type": "markdown",
   "id": "2aeb1073",
   "metadata": {},
   "source": [
    "# Classification Models"
   ]
  },
  {
   "cell_type": "code",
   "execution_count": 1,
   "id": "55209572",
   "metadata": {},
   "outputs": [],
   "source": [
    "import pandas as pd\n",
    "import numpy as np\n",
    "\n",
    "## plotting libraries\n",
    "from matplotlib import pyplot as plt\n",
    "\n",
    "## Sklearn libraries\n",
    "from sklearn.model_selection import train_test_split\n",
    "from sklearn.neighbors import KNeighborsClassifier\n",
    "from sklearn.metrics import plot_confusion_matrix\n",
    "from sklearn.metrics import accuracy_score, precision_score, recall_score\n",
    "\n",
    "import warnings\n",
    "#warnings.filterwarnings(\"ignore\", category=FutureWarning)\n",
    "\n",
    "%matplotlib inline\n",
    "\n",
    "import matplotlib.pyplot as plt\n",
    "from sklearn.datasets import load_boston\n",
    "from sklearn.datasets import load_iris, load_breast_cancer\n",
    "from sklearn.tree import DecisionTreeRegressor\n",
    "from sklearn.tree import DecisionTreeClassifier\n",
    "from sklearn.tree import plot_tree\n",
    "\n",
    "from sklearn.linear_model import LogisticRegression\n",
    "from sklearn.preprocessing import PowerTransformer\n",
    "from sklearn.metrics import accuracy_score, precision_score, recall_score, confusion_matrix\n",
    "from sklearn.metrics import plot_confusion_matrix"
   ]
  },
  {
   "cell_type": "code",
   "execution_count": 2,
   "id": "e44a818c",
   "metadata": {},
   "outputs": [],
   "source": [
    "TT_SPLIT = 0.2     # ratio train/test size\n",
    "RAND_STATE = 123   # specifies a sampling for repeatable results"
   ]
  },
  {
   "cell_type": "markdown",
   "id": "fcfd1233",
   "metadata": {},
   "source": [
    "## 1. Rond 1"
   ]
  },
  {
   "cell_type": "markdown",
   "id": "6df81a27",
   "metadata": {},
   "source": [
    "### 1.1. Loading Classification Sample Datasets"
   ]
  },
  {
   "cell_type": "code",
   "execution_count": 3,
   "id": "9c9cb493",
   "metadata": {
    "scrolled": true
   },
   "outputs": [
    {
     "data": {
      "text/html": [
       "<div>\n",
       "<style scoped>\n",
       "    .dataframe tbody tr th:only-of-type {\n",
       "        vertical-align: middle;\n",
       "    }\n",
       "\n",
       "    .dataframe tbody tr th {\n",
       "        vertical-align: top;\n",
       "    }\n",
       "\n",
       "    .dataframe thead th {\n",
       "        text-align: right;\n",
       "    }\n",
       "</style>\n",
       "<table border=\"1\" class=\"dataframe\">\n",
       "  <thead>\n",
       "    <tr style=\"text-align: right;\">\n",
       "      <th></th>\n",
       "      <th>gender</th>\n",
       "      <th>SeniorCitizen</th>\n",
       "      <th>Partner</th>\n",
       "      <th>Dependents</th>\n",
       "      <th>tenure</th>\n",
       "      <th>PhoneService</th>\n",
       "      <th>OnlineSecurity</th>\n",
       "      <th>OnlineBackup</th>\n",
       "      <th>DeviceProtection</th>\n",
       "      <th>TechSupport</th>\n",
       "      <th>StreamingTV</th>\n",
       "      <th>StreamingMovies</th>\n",
       "      <th>Contract</th>\n",
       "      <th>MonthlyCharges</th>\n",
       "      <th>TotalCharges</th>\n",
       "      <th>Churn</th>\n",
       "    </tr>\n",
       "  </thead>\n",
       "  <tbody>\n",
       "    <tr>\n",
       "      <th>0</th>\n",
       "      <td>Female</td>\n",
       "      <td>0</td>\n",
       "      <td>Yes</td>\n",
       "      <td>No</td>\n",
       "      <td>1</td>\n",
       "      <td>No</td>\n",
       "      <td>No</td>\n",
       "      <td>Yes</td>\n",
       "      <td>No</td>\n",
       "      <td>No</td>\n",
       "      <td>No</td>\n",
       "      <td>No</td>\n",
       "      <td>Month-to-month</td>\n",
       "      <td>29.85</td>\n",
       "      <td>29.85</td>\n",
       "      <td>No</td>\n",
       "    </tr>\n",
       "    <tr>\n",
       "      <th>1</th>\n",
       "      <td>Male</td>\n",
       "      <td>0</td>\n",
       "      <td>No</td>\n",
       "      <td>No</td>\n",
       "      <td>34</td>\n",
       "      <td>Yes</td>\n",
       "      <td>Yes</td>\n",
       "      <td>No</td>\n",
       "      <td>Yes</td>\n",
       "      <td>No</td>\n",
       "      <td>No</td>\n",
       "      <td>No</td>\n",
       "      <td>One year</td>\n",
       "      <td>56.95</td>\n",
       "      <td>1889.5</td>\n",
       "      <td>No</td>\n",
       "    </tr>\n",
       "    <tr>\n",
       "      <th>2</th>\n",
       "      <td>Male</td>\n",
       "      <td>0</td>\n",
       "      <td>No</td>\n",
       "      <td>No</td>\n",
       "      <td>2</td>\n",
       "      <td>Yes</td>\n",
       "      <td>Yes</td>\n",
       "      <td>Yes</td>\n",
       "      <td>No</td>\n",
       "      <td>No</td>\n",
       "      <td>No</td>\n",
       "      <td>No</td>\n",
       "      <td>Month-to-month</td>\n",
       "      <td>53.85</td>\n",
       "      <td>108.15</td>\n",
       "      <td>Yes</td>\n",
       "    </tr>\n",
       "    <tr>\n",
       "      <th>3</th>\n",
       "      <td>Male</td>\n",
       "      <td>0</td>\n",
       "      <td>No</td>\n",
       "      <td>No</td>\n",
       "      <td>45</td>\n",
       "      <td>No</td>\n",
       "      <td>Yes</td>\n",
       "      <td>No</td>\n",
       "      <td>Yes</td>\n",
       "      <td>Yes</td>\n",
       "      <td>No</td>\n",
       "      <td>No</td>\n",
       "      <td>One year</td>\n",
       "      <td>42.30</td>\n",
       "      <td>1840.75</td>\n",
       "      <td>No</td>\n",
       "    </tr>\n",
       "    <tr>\n",
       "      <th>4</th>\n",
       "      <td>Female</td>\n",
       "      <td>0</td>\n",
       "      <td>No</td>\n",
       "      <td>No</td>\n",
       "      <td>2</td>\n",
       "      <td>Yes</td>\n",
       "      <td>No</td>\n",
       "      <td>No</td>\n",
       "      <td>No</td>\n",
       "      <td>No</td>\n",
       "      <td>No</td>\n",
       "      <td>No</td>\n",
       "      <td>Month-to-month</td>\n",
       "      <td>70.70</td>\n",
       "      <td>151.65</td>\n",
       "      <td>Yes</td>\n",
       "    </tr>\n",
       "    <tr>\n",
       "      <th>...</th>\n",
       "      <td>...</td>\n",
       "      <td>...</td>\n",
       "      <td>...</td>\n",
       "      <td>...</td>\n",
       "      <td>...</td>\n",
       "      <td>...</td>\n",
       "      <td>...</td>\n",
       "      <td>...</td>\n",
       "      <td>...</td>\n",
       "      <td>...</td>\n",
       "      <td>...</td>\n",
       "      <td>...</td>\n",
       "      <td>...</td>\n",
       "      <td>...</td>\n",
       "      <td>...</td>\n",
       "      <td>...</td>\n",
       "    </tr>\n",
       "    <tr>\n",
       "      <th>7038</th>\n",
       "      <td>Male</td>\n",
       "      <td>0</td>\n",
       "      <td>Yes</td>\n",
       "      <td>Yes</td>\n",
       "      <td>24</td>\n",
       "      <td>Yes</td>\n",
       "      <td>Yes</td>\n",
       "      <td>No</td>\n",
       "      <td>Yes</td>\n",
       "      <td>Yes</td>\n",
       "      <td>Yes</td>\n",
       "      <td>Yes</td>\n",
       "      <td>One year</td>\n",
       "      <td>84.80</td>\n",
       "      <td>1990.5</td>\n",
       "      <td>No</td>\n",
       "    </tr>\n",
       "    <tr>\n",
       "      <th>7039</th>\n",
       "      <td>Female</td>\n",
       "      <td>0</td>\n",
       "      <td>Yes</td>\n",
       "      <td>Yes</td>\n",
       "      <td>72</td>\n",
       "      <td>Yes</td>\n",
       "      <td>No</td>\n",
       "      <td>Yes</td>\n",
       "      <td>Yes</td>\n",
       "      <td>No</td>\n",
       "      <td>Yes</td>\n",
       "      <td>Yes</td>\n",
       "      <td>One year</td>\n",
       "      <td>103.20</td>\n",
       "      <td>7362.9</td>\n",
       "      <td>No</td>\n",
       "    </tr>\n",
       "    <tr>\n",
       "      <th>7040</th>\n",
       "      <td>Female</td>\n",
       "      <td>0</td>\n",
       "      <td>Yes</td>\n",
       "      <td>Yes</td>\n",
       "      <td>11</td>\n",
       "      <td>No</td>\n",
       "      <td>Yes</td>\n",
       "      <td>No</td>\n",
       "      <td>No</td>\n",
       "      <td>No</td>\n",
       "      <td>No</td>\n",
       "      <td>No</td>\n",
       "      <td>Month-to-month</td>\n",
       "      <td>29.60</td>\n",
       "      <td>346.45</td>\n",
       "      <td>No</td>\n",
       "    </tr>\n",
       "    <tr>\n",
       "      <th>7041</th>\n",
       "      <td>Male</td>\n",
       "      <td>1</td>\n",
       "      <td>Yes</td>\n",
       "      <td>No</td>\n",
       "      <td>4</td>\n",
       "      <td>Yes</td>\n",
       "      <td>No</td>\n",
       "      <td>No</td>\n",
       "      <td>No</td>\n",
       "      <td>No</td>\n",
       "      <td>No</td>\n",
       "      <td>No</td>\n",
       "      <td>Month-to-month</td>\n",
       "      <td>74.40</td>\n",
       "      <td>306.6</td>\n",
       "      <td>Yes</td>\n",
       "    </tr>\n",
       "    <tr>\n",
       "      <th>7042</th>\n",
       "      <td>Male</td>\n",
       "      <td>0</td>\n",
       "      <td>No</td>\n",
       "      <td>No</td>\n",
       "      <td>66</td>\n",
       "      <td>Yes</td>\n",
       "      <td>Yes</td>\n",
       "      <td>No</td>\n",
       "      <td>Yes</td>\n",
       "      <td>Yes</td>\n",
       "      <td>Yes</td>\n",
       "      <td>Yes</td>\n",
       "      <td>Two year</td>\n",
       "      <td>105.65</td>\n",
       "      <td>6844.5</td>\n",
       "      <td>No</td>\n",
       "    </tr>\n",
       "  </tbody>\n",
       "</table>\n",
       "<p>7043 rows × 16 columns</p>\n",
       "</div>"
      ],
      "text/plain": [
       "      gender  SeniorCitizen Partner Dependents  tenure PhoneService  \\\n",
       "0     Female              0     Yes         No       1           No   \n",
       "1       Male              0      No         No      34          Yes   \n",
       "2       Male              0      No         No       2          Yes   \n",
       "3       Male              0      No         No      45           No   \n",
       "4     Female              0      No         No       2          Yes   \n",
       "...      ...            ...     ...        ...     ...          ...   \n",
       "7038    Male              0     Yes        Yes      24          Yes   \n",
       "7039  Female              0     Yes        Yes      72          Yes   \n",
       "7040  Female              0     Yes        Yes      11           No   \n",
       "7041    Male              1     Yes         No       4          Yes   \n",
       "7042    Male              0      No         No      66          Yes   \n",
       "\n",
       "     OnlineSecurity OnlineBackup DeviceProtection TechSupport StreamingTV  \\\n",
       "0                No          Yes               No          No          No   \n",
       "1               Yes           No              Yes          No          No   \n",
       "2               Yes          Yes               No          No          No   \n",
       "3               Yes           No              Yes         Yes          No   \n",
       "4                No           No               No          No          No   \n",
       "...             ...          ...              ...         ...         ...   \n",
       "7038            Yes           No              Yes         Yes         Yes   \n",
       "7039             No          Yes              Yes          No         Yes   \n",
       "7040            Yes           No               No          No          No   \n",
       "7041             No           No               No          No          No   \n",
       "7042            Yes           No              Yes         Yes         Yes   \n",
       "\n",
       "     StreamingMovies        Contract  MonthlyCharges TotalCharges Churn  \n",
       "0                 No  Month-to-month           29.85        29.85    No  \n",
       "1                 No        One year           56.95       1889.5    No  \n",
       "2                 No  Month-to-month           53.85       108.15   Yes  \n",
       "3                 No        One year           42.30      1840.75    No  \n",
       "4                 No  Month-to-month           70.70       151.65   Yes  \n",
       "...              ...             ...             ...          ...   ...  \n",
       "7038             Yes        One year           84.80       1990.5    No  \n",
       "7039             Yes        One year          103.20       7362.9    No  \n",
       "7040              No  Month-to-month           29.60       346.45    No  \n",
       "7041              No  Month-to-month           74.40        306.6   Yes  \n",
       "7042             Yes        Two year          105.65       6844.5    No  \n",
       "\n",
       "[7043 rows x 16 columns]"
      ]
     },
     "execution_count": 3,
     "metadata": {},
     "output_type": "execute_result"
    }
   ],
   "source": [
    "# read data\n",
    "churnData = pd.read_csv(\"Data/DATA_Customer-Churn.csv\")\n",
    "churnData"
   ]
  },
  {
   "cell_type": "code",
   "execution_count": 4,
   "id": "58bee349",
   "metadata": {},
   "outputs": [
    {
     "data": {
      "text/plain": [
       "array(['Female', 'Male'], dtype=object)"
      ]
     },
     "execution_count": 4,
     "metadata": {},
     "output_type": "execute_result"
    }
   ],
   "source": [
    "churnData.gender.unique()"
   ]
  },
  {
   "cell_type": "code",
   "execution_count": 5,
   "id": "70f0656a",
   "metadata": {},
   "outputs": [
    {
     "name": "stdout",
     "output_type": "stream",
     "text": [
      "<class 'pandas.core.frame.DataFrame'>\n",
      "RangeIndex: 7043 entries, 0 to 7042\n",
      "Data columns (total 16 columns):\n",
      " #   Column            Non-Null Count  Dtype  \n",
      "---  ------            --------------  -----  \n",
      " 0   gender            7043 non-null   object \n",
      " 1   SeniorCitizen     7043 non-null   int64  \n",
      " 2   Partner           7043 non-null   object \n",
      " 3   Dependents        7043 non-null   object \n",
      " 4   tenure            7043 non-null   int64  \n",
      " 5   PhoneService      7043 non-null   object \n",
      " 6   OnlineSecurity    7043 non-null   object \n",
      " 7   OnlineBackup      7043 non-null   object \n",
      " 8   DeviceProtection  7043 non-null   object \n",
      " 9   TechSupport       7043 non-null   object \n",
      " 10  StreamingTV       7043 non-null   object \n",
      " 11  StreamingMovies   7043 non-null   object \n",
      " 12  Contract          7043 non-null   object \n",
      " 13  MonthlyCharges    7043 non-null   float64\n",
      " 14  TotalCharges      7043 non-null   object \n",
      " 15  Churn             7043 non-null   object \n",
      "dtypes: float64(1), int64(2), object(13)\n",
      "memory usage: 880.5+ KB\n"
     ]
    }
   ],
   "source": [
    "churnData.info()"
   ]
  },
  {
   "cell_type": "markdown",
   "id": "4051cc0a",
   "metadata": {},
   "source": [
    "### 1.2. Cleaning Data"
   ]
  },
  {
   "cell_type": "code",
   "execution_count": 6,
   "id": "1c5bfcc3",
   "metadata": {},
   "outputs": [],
   "source": [
    "# Convert the column TotalCharges and\n",
    "churnData['TotalCharges'] = pd.to_numeric(churnData['TotalCharges'], errors='coerce')"
   ]
  },
  {
   "cell_type": "code",
   "execution_count": 7,
   "id": "898cf9cf",
   "metadata": {
    "scrolled": true
   },
   "outputs": [
    {
     "name": "stdout",
     "output_type": "stream",
     "text": [
      "<class 'pandas.core.frame.DataFrame'>\n",
      "RangeIndex: 7043 entries, 0 to 7042\n",
      "Data columns (total 16 columns):\n",
      " #   Column            Non-Null Count  Dtype  \n",
      "---  ------            --------------  -----  \n",
      " 0   gender            7043 non-null   object \n",
      " 1   SeniorCitizen     7043 non-null   int64  \n",
      " 2   Partner           7043 non-null   object \n",
      " 3   Dependents        7043 non-null   object \n",
      " 4   tenure            7043 non-null   int64  \n",
      " 5   PhoneService      7043 non-null   object \n",
      " 6   OnlineSecurity    7043 non-null   object \n",
      " 7   OnlineBackup      7043 non-null   object \n",
      " 8   DeviceProtection  7043 non-null   object \n",
      " 9   TechSupport       7043 non-null   object \n",
      " 10  StreamingTV       7043 non-null   object \n",
      " 11  StreamingMovies   7043 non-null   object \n",
      " 12  Contract          7043 non-null   object \n",
      " 13  MonthlyCharges    7043 non-null   float64\n",
      " 14  TotalCharges      7032 non-null   float64\n",
      " 15  Churn             7043 non-null   object \n",
      "dtypes: float64(2), int64(2), object(12)\n",
      "memory usage: 880.5+ KB\n"
     ]
    }
   ],
   "source": [
    "churnData.info()"
   ]
  },
  {
   "cell_type": "code",
   "execution_count": 8,
   "id": "d80c85f8",
   "metadata": {},
   "outputs": [],
   "source": [
    "# fill the NaN elements with mean\n",
    "churnData.fillna(churnData['TotalCharges'].median(), inplace=True)"
   ]
  },
  {
   "cell_type": "code",
   "execution_count": 9,
   "id": "166afe1c",
   "metadata": {},
   "outputs": [
    {
     "data": {
      "text/plain": [
       "No     5174\n",
       "Yes    1869\n",
       "Name: Churn, dtype: int64"
      ]
     },
     "execution_count": 9,
     "metadata": {},
     "output_type": "execute_result"
    }
   ],
   "source": [
    "churnData['Churn'].value_counts()"
   ]
  },
  {
   "cell_type": "markdown",
   "id": "3544ab40",
   "metadata": {
    "id": "e1CinfMhxy-Z"
   },
   "source": [
    "### 1.3. Checking for Correlation"
   ]
  },
  {
   "cell_type": "code",
   "execution_count": 10,
   "id": "dfac5e5d",
   "metadata": {},
   "outputs": [],
   "source": [
    "input_features = ['tenure', 'SeniorCitizen', 'MonthlyCharges', 'TotalCharges']"
   ]
  },
  {
   "cell_type": "code",
   "execution_count": 11,
   "id": "0090b8b5",
   "metadata": {},
   "outputs": [
    {
     "name": "stdout",
     "output_type": "stream",
     "text": [
      "                  tenure  SeniorCitizen  MonthlyCharges  TotalCharges\n",
      "tenure          1.000000       0.016567        0.247900      0.825464\n",
      "SeniorCitizen   0.016567       1.000000        0.220173      0.102652\n",
      "MonthlyCharges  0.247900       0.220173        1.000000      0.650864\n",
      "TotalCharges    0.825464       0.102652        0.650864      1.000000\n"
     ]
    }
   ],
   "source": [
    "# Print out a correlation matrix\n",
    "corr_matrix_input_feat = churnData[input_features].corr()\n",
    "print(corr_matrix_input_feat)"
   ]
  },
  {
   "cell_type": "code",
   "execution_count": 12,
   "id": "d0d5819f",
   "metadata": {},
   "outputs": [
    {
     "data": {
      "text/plain": [
       "<AxesSubplot:>"
      ]
     },
     "execution_count": 12,
     "metadata": {},
     "output_type": "execute_result"
    },
    {
     "data": {
      "image/png": "[encoded data removed]",
      "text/plain": [
       "<Figure size 576x360 with 2 Axes>"
      ]
     },
     "metadata": {
      "needs_background": "light"
     },
     "output_type": "display_data"
    }
   ],
   "source": [
    "# Create a heatmap\n",
    "import seaborn as sns\n",
    "import statsmodels.api as sm\n",
    "\n",
    "fig3 = plt.figure(figsize=(8,5))\n",
    "sns.heatmap(corr_matrix_input_feat,annot=True, cmap='Blues') # Another choice of plette: cmap='coolwarm'"
   ]
  },
  {
   "cell_type": "markdown",
   "id": "dbc13603",
   "metadata": {},
   "source": [
    "### 1.3. Spliting Data"
   ]
  },
  {
   "cell_type": "markdown",
   "id": "ee0d3b32",
   "metadata": {},
   "source": [
    "#### 1.3.1. Spliting target variable (x) and predictor variable (y)"
   ]
  },
  {
   "cell_type": "code",
   "execution_count": 13,
   "id": "83fd26a5",
   "metadata": {},
   "outputs": [
    {
     "data": {
      "text/plain": [
       "['SeniorCitizen', 'MonthlyCharges', 'TotalCharges']"
      ]
     },
     "execution_count": 13,
     "metadata": {},
     "output_type": "execute_result"
    }
   ],
   "source": [
    "selected_features = input_features.copy()\n",
    "selected_features.remove('tenure')\n",
    "selected_features"
   ]
  },
  {
   "cell_type": "code",
   "execution_count": 14,
   "id": "5ac861b0",
   "metadata": {},
   "outputs": [],
   "source": [
    "X = churnData.loc[:, selected_features]\n",
    "y = churnData.Churn"
   ]
  },
  {
   "cell_type": "code",
   "execution_count": 15,
   "id": "70f11048",
   "metadata": {},
   "outputs": [],
   "source": [
    "# selected_features = ['SeniorCitizen', 'MonthlyCharges', 'TotalCharges']\n",
    "# X = churnData.loc[:, selected_features]\n",
    "# y = churnData.Churn"
   ]
  },
  {
   "cell_type": "code",
   "execution_count": 16,
   "id": "837085c0",
   "metadata": {},
   "outputs": [
    {
     "data": {
      "text/plain": [
       "SeniorCitizen     False\n",
       "MonthlyCharges    False\n",
       "TotalCharges      False\n",
       "dtype: bool"
      ]
     },
     "execution_count": 16,
     "metadata": {},
     "output_type": "execute_result"
    }
   ],
   "source": [
    "X.isna().any()"
   ]
  },
  {
   "cell_type": "code",
   "execution_count": 17,
   "id": "fa08d4cc",
   "metadata": {},
   "outputs": [
    {
     "data": {
      "text/html": [
       "<div>\n",
       "<style scoped>\n",
       "    .dataframe tbody tr th:only-of-type {\n",
       "        vertical-align: middle;\n",
       "    }\n",
       "\n",
       "    .dataframe tbody tr th {\n",
       "        vertical-align: top;\n",
       "    }\n",
       "\n",
       "    .dataframe thead th {\n",
       "        text-align: right;\n",
       "    }\n",
       "</style>\n",
       "<table border=\"1\" class=\"dataframe\">\n",
       "  <thead>\n",
       "    <tr style=\"text-align: right;\">\n",
       "      <th></th>\n",
       "      <th>SeniorCitizen</th>\n",
       "      <th>MonthlyCharges</th>\n",
       "      <th>TotalCharges</th>\n",
       "    </tr>\n",
       "  </thead>\n",
       "  <tbody>\n",
       "    <tr>\n",
       "      <th>0</th>\n",
       "      <td>0</td>\n",
       "      <td>29.85</td>\n",
       "      <td>29.85</td>\n",
       "    </tr>\n",
       "    <tr>\n",
       "      <th>1</th>\n",
       "      <td>0</td>\n",
       "      <td>56.95</td>\n",
       "      <td>1889.50</td>\n",
       "    </tr>\n",
       "    <tr>\n",
       "      <th>2</th>\n",
       "      <td>0</td>\n",
       "      <td>53.85</td>\n",
       "      <td>108.15</td>\n",
       "    </tr>\n",
       "    <tr>\n",
       "      <th>3</th>\n",
       "      <td>0</td>\n",
       "      <td>42.30</td>\n",
       "      <td>1840.75</td>\n",
       "    </tr>\n",
       "    <tr>\n",
       "      <th>4</th>\n",
       "      <td>0</td>\n",
       "      <td>70.70</td>\n",
       "      <td>151.65</td>\n",
       "    </tr>\n",
       "    <tr>\n",
       "      <th>...</th>\n",
       "      <td>...</td>\n",
       "      <td>...</td>\n",
       "      <td>...</td>\n",
       "    </tr>\n",
       "    <tr>\n",
       "      <th>7038</th>\n",
       "      <td>0</td>\n",
       "      <td>84.80</td>\n",
       "      <td>1990.50</td>\n",
       "    </tr>\n",
       "    <tr>\n",
       "      <th>7039</th>\n",
       "      <td>0</td>\n",
       "      <td>103.20</td>\n",
       "      <td>7362.90</td>\n",
       "    </tr>\n",
       "    <tr>\n",
       "      <th>7040</th>\n",
       "      <td>0</td>\n",
       "      <td>29.60</td>\n",
       "      <td>346.45</td>\n",
       "    </tr>\n",
       "    <tr>\n",
       "      <th>7041</th>\n",
       "      <td>1</td>\n",
       "      <td>74.40</td>\n",
       "      <td>306.60</td>\n",
       "    </tr>\n",
       "    <tr>\n",
       "      <th>7042</th>\n",
       "      <td>0</td>\n",
       "      <td>105.65</td>\n",
       "      <td>6844.50</td>\n",
       "    </tr>\n",
       "  </tbody>\n",
       "</table>\n",
       "<p>7043 rows × 3 columns</p>\n",
       "</div>"
      ],
      "text/plain": [
       "      SeniorCitizen  MonthlyCharges  TotalCharges\n",
       "0                 0           29.85         29.85\n",
       "1                 0           56.95       1889.50\n",
       "2                 0           53.85        108.15\n",
       "3                 0           42.30       1840.75\n",
       "4                 0           70.70        151.65\n",
       "...             ...             ...           ...\n",
       "7038              0           84.80       1990.50\n",
       "7039              0          103.20       7362.90\n",
       "7040              0           29.60        346.45\n",
       "7041              1           74.40        306.60\n",
       "7042              0          105.65       6844.50\n",
       "\n",
       "[7043 rows x 3 columns]"
      ]
     },
     "execution_count": 17,
     "metadata": {},
     "output_type": "execute_result"
    }
   ],
   "source": [
    "X"
   ]
  },
  {
   "cell_type": "markdown",
   "id": "d0ffe4d7",
   "metadata": {},
   "source": [
    "#### 1.3.2. Spliting Training Set and Testing Set"
   ]
  },
  {
   "cell_type": "code",
   "execution_count": 18,
   "id": "90a3ea98",
   "metadata": {},
   "outputs": [
    {
     "data": {
      "text/html": [
       "<div>\n",
       "<style scoped>\n",
       "    .dataframe tbody tr th:only-of-type {\n",
       "        vertical-align: middle;\n",
       "    }\n",
       "\n",
       "    .dataframe tbody tr th {\n",
       "        vertical-align: top;\n",
       "    }\n",
       "\n",
       "    .dataframe thead th {\n",
       "        text-align: right;\n",
       "    }\n",
       "</style>\n",
       "<table border=\"1\" class=\"dataframe\">\n",
       "  <thead>\n",
       "    <tr style=\"text-align: right;\">\n",
       "      <th></th>\n",
       "      <th>SeniorCitizen</th>\n",
       "      <th>MonthlyCharges</th>\n",
       "      <th>TotalCharges</th>\n",
       "    </tr>\n",
       "  </thead>\n",
       "  <tbody>\n",
       "    <tr>\n",
       "      <th>6924</th>\n",
       "      <td>0</td>\n",
       "      <td>69.35</td>\n",
       "      <td>69.35</td>\n",
       "    </tr>\n",
       "    <tr>\n",
       "      <th>5249</th>\n",
       "      <td>0</td>\n",
       "      <td>67.20</td>\n",
       "      <td>4671.70</td>\n",
       "    </tr>\n",
       "    <tr>\n",
       "      <th>5852</th>\n",
       "      <td>1</td>\n",
       "      <td>69.10</td>\n",
       "      <td>1474.75</td>\n",
       "    </tr>\n",
       "  </tbody>\n",
       "</table>\n",
       "</div>"
      ],
      "text/plain": [
       "      SeniorCitizen  MonthlyCharges  TotalCharges\n",
       "6924              0           69.35         69.35\n",
       "5249              0           67.20       4671.70\n",
       "5852              1           69.10       1474.75"
      ]
     },
     "execution_count": 18,
     "metadata": {},
     "output_type": "execute_result"
    }
   ],
   "source": [
    "X_train, X_test, y_train, y_test = train_test_split(X, y, test_size = TT_SPLIT, random_state = RAND_STATE)\n",
    "X_train = pd.DataFrame(X_train)\n",
    "X_test = pd.DataFrame(X_test)\n",
    "X_train.head(3)"
   ]
  },
  {
   "cell_type": "markdown",
   "id": "1c3af20c",
   "metadata": {},
   "source": [
    "### 1.4. Standardizing Data"
   ]
  },
  {
   "cell_type": "code",
   "execution_count": 19,
   "id": "98b6705c",
   "metadata": {},
   "outputs": [],
   "source": [
    "from sklearn.preprocessing import StandardScaler\n",
    "\n",
    "scaler = StandardScaler()\n",
    "\n",
    "X_train_sc = scaler.fit_transform(X_train)\n",
    "X_test_sc = scaler.transform(X_test)\n",
    "\n",
    "X_train_sc = pd.DataFrame(X_train_sc, columns = selected_features)\n",
    "X_test_sc  = pd.DataFrame(X_test_sc, columns = selected_features)"
   ]
  },
  {
   "cell_type": "markdown",
   "id": "daf139dd",
   "metadata": {},
   "source": [
    "### 1.5. Predictive Modeling"
   ]
  },
  {
   "cell_type": "markdown",
   "id": "978d80b6",
   "metadata": {},
   "source": [
    "#### 1.5.1. Applying Logistic Regression Model"
   ]
  },
  {
   "cell_type": "code",
   "execution_count": 20,
   "id": "8e067b6e",
   "metadata": {},
   "outputs": [],
   "source": [
    "def get_model_LogisticRegression(X_tn, X_tt, y_tn, y_tt):\n",
    "    \n",
    "    scaler = StandardScaler()\n",
    "    \n",
    "    X_tn_sc = scaler.fit_transform(X_tn)\n",
    "    X_tt_sc = scaler.transform(X_tt)\n",
    "\n",
    "    X_tn_sc = pd.DataFrame(X_tn, columns = selected_features)\n",
    "    X_tt_sc  = pd.DataFrame(X_tt, columns = selected_features)\n",
    "    \n",
    "    log_model = LogisticRegression() \n",
    "\n",
    "    log_model.fit(X_tn_sc, y_tn)\n",
    "    \n",
    "    return log_model"
   ]
  },
  {
   "cell_type": "code",
   "execution_count": 21,
   "id": "043eff3a",
   "metadata": {},
   "outputs": [],
   "source": [
    "scaler = StandardScaler()\n",
    "    \n",
    "X_train_sc = scaler.fit_transform(X_train)\n",
    "X_test_sc = scaler.transform(X_test)\n",
    "\n",
    "X_train_sc = pd.DataFrame(X_train, columns = selected_features)\n",
    "X_test_sc  = pd.DataFrame(X_test, columns = selected_features)\n",
    "    \n",
    "log_model = LogisticRegression() \n",
    "\n",
    "log_model.fit(X_train_sc, y_train)\n",
    "\n",
    "y_pred_train_log = log_model.predict(X_train_sc)\n",
    "y_pred_test_log = log_model.predict(X_test_sc)"
   ]
  },
  {
   "cell_type": "code",
   "execution_count": 22,
   "id": "ebf26492",
   "metadata": {},
   "outputs": [],
   "source": [
    "# def error_metric_df(y_train, y_test, y_pred_train, y_pred_test):\n",
    "#     y_train_np = y_train.to_numpy()\n",
    "#     y_test_np = y_test.to_numpy()\n",
    "    \n",
    "#     performance = pd.DataFrame({'Error_metric': ['Accuracy','Precision','Recall'],\n",
    "#                                     'Train': [accuracy_score(y_train_np, y_pred_train),\n",
    "#                                               precision_score(y_train_np, y_pred_train, pos_label='Yes'),\n",
    "#                                               recall_score(y_train_np, y_pred_train, pos_label='Yes')],\n",
    "#                                     'Test': [accuracy_score(y_test_np, y_pred_test),\n",
    "#                                              precision_score(y_test_np, y_pred_test, pos_label='Yes'),\n",
    "#                                              recall_score(y_test_np, y_pred_test, pos_label='Yes')]})\n",
    "#     return display(performance)"
   ]
  },
  {
   "cell_type": "code",
   "execution_count": 23,
   "id": "dd0aaee5",
   "metadata": {},
   "outputs": [
    {
     "data": {
      "text/html": [
       "<div>\n",
       "<style scoped>\n",
       "    .dataframe tbody tr th:only-of-type {\n",
       "        vertical-align: middle;\n",
       "    }\n",
       "\n",
       "    .dataframe tbody tr th {\n",
       "        vertical-align: top;\n",
       "    }\n",
       "\n",
       "    .dataframe thead th {\n",
       "        text-align: right;\n",
       "    }\n",
       "</style>\n",
       "<table border=\"1\" class=\"dataframe\">\n",
       "  <thead>\n",
       "    <tr style=\"text-align: right;\">\n",
       "      <th></th>\n",
       "      <th>Error_metric</th>\n",
       "      <th>Train</th>\n",
       "      <th>Test</th>\n",
       "    </tr>\n",
       "  </thead>\n",
       "  <tbody>\n",
       "    <tr>\n",
       "      <th>0</th>\n",
       "      <td>Accuracy</td>\n",
       "      <td>0.793575</td>\n",
       "      <td>0.779986</td>\n",
       "    </tr>\n",
       "    <tr>\n",
       "      <th>1</th>\n",
       "      <td>Precision</td>\n",
       "      <td>0.651456</td>\n",
       "      <td>0.660305</td>\n",
       "    </tr>\n",
       "    <tr>\n",
       "      <th>2</th>\n",
       "      <td>Recall</td>\n",
       "      <td>0.454915</td>\n",
       "      <td>0.439086</td>\n",
       "    </tr>\n",
       "  </tbody>\n",
       "</table>\n",
       "</div>"
      ],
      "text/plain": [
       "  Error_metric     Train      Test\n",
       "0     Accuracy  0.793575  0.779986\n",
       "1    Precision  0.651456  0.660305\n",
       "2       Recall  0.454915  0.439086"
      ]
     },
     "metadata": {},
     "output_type": "display_data"
    }
   ],
   "source": [
    "# Performance\n",
    "\n",
    "y_train_np = y_train.to_numpy()\n",
    "y_test_np = y_test.to_numpy()\n",
    "\n",
    "performance_log = pd.DataFrame({'Error_metric': ['Accuracy','Precision','Recall'],\n",
    "                                'Train': [accuracy_score(y_train_np, y_pred_train_log),\n",
    "                                          precision_score(y_train_np, y_pred_train_log, pos_label='Yes'),\n",
    "                                          recall_score(y_train_np, y_pred_train_log, pos_label='Yes')],\n",
    "                                'Test': [accuracy_score(y_test_np, y_pred_test_log),\n",
    "                                         precision_score(y_test_np, y_pred_test_log, pos_label='Yes'),\n",
    "                                         recall_score(y_test_np, y_pred_test_log, pos_label='Yes')]})\n",
    "\n",
    "display(performance_log)\n"
   ]
  },
  {
   "cell_type": "code",
   "execution_count": 24,
   "id": "9425740d",
   "metadata": {},
   "outputs": [
    {
     "data": {
      "image/png": "[encoded data removed]",
      "text/plain": [
       "<Figure size 1008x288 with 4 Axes>"
      ]
     },
     "metadata": {
      "needs_background": "light"
     },
     "output_type": "display_data"
    }
   ],
   "source": [
    "from sklearn.metrics import confusion_matrix, ConfusionMatrixDisplay\n",
    "\n",
    "fig, ax = plt.subplots(1,2, figsize=(14,4))\n",
    "\n",
    "cm_train = confusion_matrix(y_train_np, y_pred_train_log)\n",
    "cm_test = confusion_matrix(y_test_np, y_pred_test_log)\n",
    "\n",
    "ConfusionMatrixDisplay(cm_train, display_labels=log_model.classes_).plot(ax=ax[0], values_format='d')\n",
    "ax[0].set_title(\"Train Set\")\n",
    "            \n",
    "ConfusionMatrixDisplay(cm_test, display_labels=log_model.classes_).plot(ax=ax[1], values_format='d')\n",
    "ax[1].set_title(\"Test Set\")\n",
    "\n",
    "plt.show()"
   ]
  },
  {
   "cell_type": "markdown",
   "id": "bb27f8bf",
   "metadata": {},
   "source": [
    "#### 1.5.2. Applying Knn Classifier Model"
   ]
  },
  {
   "cell_type": "code",
   "execution_count": 25,
   "id": "14fcd8ec",
   "metadata": {},
   "outputs": [
    {
     "data": {
      "image/png": "[encoded data removed]",
      "text/plain": [
       "<Figure size 432x288 with 1 Axes>"
      ]
     },
     "metadata": {
      "needs_background": "light"
     },
     "output_type": "display_data"
    },
    {
     "name": "stdout",
     "output_type": "stream",
     "text": [
      "The best value of n_neighbors is 8\n"
     ]
    }
   ],
   "source": [
    "from sklearn.neighbors import KNeighborsClassifier\n",
    "from sklearn.model_selection import cross_val_score\n",
    "import matplotlib.pyplot as plt\n",
    "import numpy as np\n",
    "\n",
    "# Create KNN model\n",
    "knn_model = KNeighborsClassifier()\n",
    "\n",
    "# Create list of values of n_neighbors to evaluate\n",
    "n_neighbors = range(1, 50)\n",
    "\n",
    "# Evaluate KNN model for each value of n_neighbors using 10-fold cross-validation\n",
    "scores = []\n",
    "for n in n_neighbors:\n",
    "    knn_model.set_params(n_neighbors=n)\n",
    "    score = cross_val_score(knn_model, X_train_sc, y_train, cv=10, scoring='accuracy').mean()\n",
    "    scores.append(score)\n",
    "\n",
    "# Plot the results\n",
    "plt.plot(n_neighbors, scores)\n",
    "plt.xlabel('Value of n_neighbors')\n",
    "plt.ylabel('Cross-Validated Accuracy')\n",
    "plt.show()\n",
    "\n",
    "# Select best value of n_neighbors based on cross-validation results\n",
    "best_n_neighbor = n_neighbors[np.argmax(scores)]\n",
    "print(f\"The best value of n_neighbors is {best_n_neighbor}\")\n"
   ]
  },
  {
   "cell_type": "code",
   "execution_count": 26,
   "id": "440d144c",
   "metadata": {},
   "outputs": [],
   "source": [
    "def get_model_KNeighborsClassifier(X_tn, X_tt, y_tn, y_tt, n_neighbors = n):\n",
    "    scaler = StandardScaler()\n",
    "    \n",
    "    X_tn_sc = scaler.fit_transform(X_tn)\n",
    "    X_tt_sc = scaler.transform(X_tt)\n",
    "\n",
    "    X_tn_sc = pd.DataFrame(X_tn_sc, columns = selected_features)\n",
    "    X_tt_sc  = pd.DataFrame(X_tt_sc, columns = selected_features)\n",
    "    \n",
    "    knn_model = KNeighborsClassifier(n_neighbors = n, weights = 'uniform') \n",
    "    \n",
    "    knn_model.fit(X_tn_sc, y_tn) \n",
    "    \n",
    "    return knn_model"
   ]
  },
  {
   "cell_type": "code",
   "execution_count": 27,
   "id": "31b3674a",
   "metadata": {},
   "outputs": [],
   "source": [
    "knn_model = KNeighborsClassifier(n_neighbors = best_n_neighbor, weights = 'uniform') \n",
    "knn_model.fit(X_train_sc, y_train) \n",
    "\n",
    "y_pred = knn_model.predict(X_test_sc) \n",
    "\n",
    "y_pred_train_knn = knn_model.predict(X_train_sc)\n",
    "y_pred_test_knn = knn_model.predict(X_test_sc)"
   ]
  },
  {
   "cell_type": "code",
   "execution_count": 28,
   "id": "5bc2e1b3",
   "metadata": {},
   "outputs": [
    {
     "data": {
      "text/html": [
       "<div>\n",
       "<style scoped>\n",
       "    .dataframe tbody tr th:only-of-type {\n",
       "        vertical-align: middle;\n",
       "    }\n",
       "\n",
       "    .dataframe tbody tr th {\n",
       "        vertical-align: top;\n",
       "    }\n",
       "\n",
       "    .dataframe thead th {\n",
       "        text-align: right;\n",
       "    }\n",
       "</style>\n",
       "<table border=\"1\" class=\"dataframe\">\n",
       "  <thead>\n",
       "    <tr style=\"text-align: right;\">\n",
       "      <th></th>\n",
       "      <th>Error_metric</th>\n",
       "      <th>Train</th>\n",
       "      <th>Test</th>\n",
       "    </tr>\n",
       "  </thead>\n",
       "  <tbody>\n",
       "    <tr>\n",
       "      <th>0</th>\n",
       "      <td>Accuracy</td>\n",
       "      <td>0.818069</td>\n",
       "      <td>0.770050</td>\n",
       "    </tr>\n",
       "    <tr>\n",
       "      <th>1</th>\n",
       "      <td>Precision</td>\n",
       "      <td>0.761628</td>\n",
       "      <td>0.650862</td>\n",
       "    </tr>\n",
       "    <tr>\n",
       "      <th>2</th>\n",
       "      <td>Recall</td>\n",
       "      <td>0.444068</td>\n",
       "      <td>0.383249</td>\n",
       "    </tr>\n",
       "  </tbody>\n",
       "</table>\n",
       "</div>"
      ],
      "text/plain": [
       "  Error_metric     Train      Test\n",
       "0     Accuracy  0.818069  0.770050\n",
       "1    Precision  0.761628  0.650862\n",
       "2       Recall  0.444068  0.383249"
      ]
     },
     "metadata": {},
     "output_type": "display_data"
    }
   ],
   "source": [
    "# Performance\n",
    "\n",
    "y_train_np = y_train.to_numpy()\n",
    "y_test_np = y_test.to_numpy()\n",
    "\n",
    "performance_knn = pd.DataFrame({'Error_metric': ['Accuracy','Precision','Recall'],\n",
    "                                'Train': [accuracy_score(y_train_np, y_pred_train_knn),\n",
    "                                          precision_score(y_train_np, y_pred_train_knn, pos_label='Yes'),\n",
    "                                          recall_score(y_train_np, y_pred_train_knn, pos_label='Yes')],\n",
    "                                'Test': [accuracy_score(y_test_np, y_pred_test_knn),\n",
    "                                         precision_score(y_test_np, y_pred_test_knn, pos_label='Yes'),\n",
    "                                         recall_score(y_test_np, y_pred_test_knn, pos_label='Yes')]})\n",
    "\n",
    "display(performance_knn)"
   ]
  },
  {
   "cell_type": "code",
   "execution_count": 29,
   "id": "c0df9e70",
   "metadata": {},
   "outputs": [
    {
     "data": {
      "image/png": "[encoded data removed]",
      "text/plain": [
       "<Figure size 1008x288 with 4 Axes>"
      ]
     },
     "metadata": {
      "needs_background": "light"
     },
     "output_type": "display_data"
    }
   ],
   "source": [
    "from sklearn.metrics import confusion_matrix, ConfusionMatrixDisplay\n",
    "\n",
    "fig, ax = plt.subplots(1,2, figsize=(14,4))\n",
    "\n",
    "cm_train = confusion_matrix(y_train_np, y_pred_train_knn)\n",
    "cm_test = confusion_matrix(y_test_np, y_pred_test_knn)\n",
    "\n",
    "ConfusionMatrixDisplay(cm_train, display_labels=knn_model.classes_).plot(ax=ax[0], values_format='d')\n",
    "ax[0].set_title(\"Train Set\")\n",
    "\n",
    "ConfusionMatrixDisplay(cm_test, display_labels=knn_model.classes_).plot(ax=ax[1], values_format='d')\n",
    "ax[1].set_title(\"Test Set\")\n",
    "\n",
    "plt.show()"
   ]
  },
  {
   "cell_type": "markdown",
   "id": "c4c5d43d",
   "metadata": {},
   "source": [
    "#### 1.5.3. Comparing KNN and Logistic Regression Models"
   ]
  },
  {
   "cell_type": "code",
   "execution_count": 30,
   "id": "052f79cf",
   "metadata": {},
   "outputs": [
    {
     "data": {
      "image/png": "[encoded data removed]",
      "text/plain": [
       "<Figure size 1008x576 with 1 Axes>"
      ]
     },
     "metadata": {
      "needs_background": "light"
     },
     "output_type": "display_data"
    }
   ],
   "source": [
    "# Create bar chart comparing KNN and logistic regression models\n",
    "import matplotlib.pyplot as plt\n",
    "import numpy as np\n",
    "\n",
    "# Set the size of the figure\n",
    "plt.figure(figsize=(14, 8))\n",
    "\n",
    "# Set the width of the bars\n",
    "barWidth = 0.25\n",
    "\n",
    "# Set the height of the bars\n",
    "bars_train_log = performance_log['Train']\n",
    "bars_test_log = performance_log['Test']\n",
    "bars_train_knn = performance_knn['Train']\n",
    "bars_test_knn = performance_knn['Test']\n",
    "\n",
    "# Set the position of the bars on the x-axis\n",
    "r1 = np.arange(len(bars_train_log))\n",
    "r2 = [x + barWidth for x in r1]\n",
    "r3 = [x + barWidth for x in r2]\n",
    "r4 = [x + barWidth for x in r3]\n",
    "\n",
    "# Plot the bars\n",
    "plt.bar(r1, bars_train_log, color='blue', width=barWidth, edgecolor='white', label='Train - Logistic Regression')\n",
    "plt.bar(r2, bars_test_log, color='cyan', width=barWidth, edgecolor='white', label='Test - Logistic Regression')\n",
    "plt.bar(r3, bars_train_knn, color='orange', width=barWidth, edgecolor='white', label='Train - KNN')\n",
    "plt.bar(r4, bars_test_knn, color='yellow', width=barWidth, edgecolor='white', label='Test - KNN')\n",
    "\n",
    "# Add xticks on the middle of the group bars\n",
    "plt.xlabel('Error Metric', fontweight='bold')\n",
    "plt.xticks([r + barWidth for r in range(len(bars_train_log))], ['Accuracy', 'Precision', 'Recall'])\n",
    "\n",
    "# Add a legend\n",
    "plt.legend()\n",
    "\n",
    "# Show the chart\n",
    "plt.show()"
   ]
  },
  {
   "cell_type": "markdown",
   "id": "8d442694",
   "metadata": {},
   "source": [
    "## 2. Round 2"
   ]
  },
  {
   "cell_type": "code",
   "execution_count": 31,
   "id": "e06cf525",
   "metadata": {},
   "outputs": [
    {
     "data": {
      "image/png": "[encoded data removed]",
      "text/plain": [
       "<Figure size 432x288 with 1 Axes>"
      ]
     },
     "metadata": {
      "needs_background": "light"
     },
     "output_type": "display_data"
    },
    {
     "name": "stdout",
     "output_type": "stream",
     "text": [
      "The best value of max_depth is 5\n"
     ]
    }
   ],
   "source": [
    "# get the best max_depth \n",
    "\n",
    "from sklearn.tree import DecisionTreeClassifier\n",
    "from sklearn.model_selection import cross_val_score\n",
    "import matplotlib.pyplot as plt\n",
    "import numpy as np\n",
    "\n",
    "# Create Decision Tree model\n",
    "dt_model = DecisionTreeClassifier()\n",
    "\n",
    "# Create list of values of max_depth to evaluate\n",
    "max_depths = range(1, 15)\n",
    "\n",
    "# Evaluate Decision Tree model for each value of max_depth using 10-fold cross-validation\n",
    "scores = []\n",
    "for depth in max_depths:\n",
    "    dt_model.set_params(max_depth=depth)\n",
    "    # no need to scale the train and test set, so X_train istead of X_train_sc\n",
    "    score = cross_val_score(dt_model, X_train, y_train, cv=10, scoring='accuracy').mean()\n",
    "    scores.append(score)\n",
    "\n",
    "# Plot the results\n",
    "plt.plot(max_depths, scores)\n",
    "plt.xlabel('Value of max_depth')\n",
    "plt.ylabel('Cross-Validated Accuracy')\n",
    "plt.show()\n",
    "\n",
    "# Select best value of max_depth based on cross-validation results\n",
    "best_max_depth = max_depths[np.argmax(scores)]\n",
    "print(f\"The best value of max_depth is {best_max_depth}\")\n"
   ]
  },
  {
   "cell_type": "code",
   "execution_count": 32,
   "id": "31ad6a6e",
   "metadata": {},
   "outputs": [],
   "source": [
    "def get_model_DecisionTreeClassifier(X_tn, X_tt, y_tn, y_tt, max_depth = n):\n",
    "    \n",
    "    dt_model = DecisionTreeClassifier(max_depth = n)  \n",
    "    \n",
    "    dt_model.fit(X_tn, y_tn) \n",
    "\n",
    "    y_pred = dt_model.predict(X_tt) \n",
    "    \n",
    "    return dt_model"
   ]
  },
  {
   "cell_type": "code",
   "execution_count": 33,
   "id": "1c9fee4e",
   "metadata": {},
   "outputs": [],
   "source": [
    "dt_model = DecisionTreeClassifier(max_depth = best_max_depth)\n",
    "\n",
    "dt_model.fit(X_train, y_train) \n",
    "\n",
    "y_pred = dt_model.predict(X_test) \n",
    "\n",
    "y_pred_train_td = dt_model.predict(X_train)\n",
    "y_pred_test_td = dt_model.predict(X_test)"
   ]
  },
  {
   "cell_type": "code",
   "execution_count": 34,
   "id": "ac4c0f8d",
   "metadata": {},
   "outputs": [
    {
     "data": {
      "text/html": [
       "<div>\n",
       "<style scoped>\n",
       "    .dataframe tbody tr th:only-of-type {\n",
       "        vertical-align: middle;\n",
       "    }\n",
       "\n",
       "    .dataframe tbody tr th {\n",
       "        vertical-align: top;\n",
       "    }\n",
       "\n",
       "    .dataframe thead th {\n",
       "        text-align: right;\n",
       "    }\n",
       "</style>\n",
       "<table border=\"1\" class=\"dataframe\">\n",
       "  <thead>\n",
       "    <tr style=\"text-align: right;\">\n",
       "      <th></th>\n",
       "      <th>SeniorCitizen</th>\n",
       "      <th>MonthlyCharges</th>\n",
       "      <th>TotalCharges</th>\n",
       "    </tr>\n",
       "  </thead>\n",
       "  <tbody>\n",
       "    <tr>\n",
       "      <th>6924</th>\n",
       "      <td>0</td>\n",
       "      <td>69.35</td>\n",
       "      <td>69.350</td>\n",
       "    </tr>\n",
       "    <tr>\n",
       "      <th>5249</th>\n",
       "      <td>0</td>\n",
       "      <td>67.20</td>\n",
       "      <td>4671.700</td>\n",
       "    </tr>\n",
       "    <tr>\n",
       "      <th>5852</th>\n",
       "      <td>1</td>\n",
       "      <td>69.10</td>\n",
       "      <td>1474.750</td>\n",
       "    </tr>\n",
       "    <tr>\n",
       "      <th>3597</th>\n",
       "      <td>0</td>\n",
       "      <td>95.70</td>\n",
       "      <td>2338.350</td>\n",
       "    </tr>\n",
       "    <tr>\n",
       "      <th>4147</th>\n",
       "      <td>1</td>\n",
       "      <td>24.85</td>\n",
       "      <td>1901.000</td>\n",
       "    </tr>\n",
       "    <tr>\n",
       "      <th>...</th>\n",
       "      <td>...</td>\n",
       "      <td>...</td>\n",
       "      <td>...</td>\n",
       "    </tr>\n",
       "    <tr>\n",
       "      <th>5218</th>\n",
       "      <td>0</td>\n",
       "      <td>19.70</td>\n",
       "      <td>1397.475</td>\n",
       "    </tr>\n",
       "    <tr>\n",
       "      <th>4060</th>\n",
       "      <td>0</td>\n",
       "      <td>63.35</td>\n",
       "      <td>3409.100</td>\n",
       "    </tr>\n",
       "    <tr>\n",
       "      <th>1346</th>\n",
       "      <td>0</td>\n",
       "      <td>87.25</td>\n",
       "      <td>1258.600</td>\n",
       "    </tr>\n",
       "    <tr>\n",
       "      <th>3454</th>\n",
       "      <td>1</td>\n",
       "      <td>35.65</td>\n",
       "      <td>1025.150</td>\n",
       "    </tr>\n",
       "    <tr>\n",
       "      <th>3582</th>\n",
       "      <td>0</td>\n",
       "      <td>80.50</td>\n",
       "      <td>232.350</td>\n",
       "    </tr>\n",
       "  </tbody>\n",
       "</table>\n",
       "<p>5634 rows × 3 columns</p>\n",
       "</div>"
      ],
      "text/plain": [
       "      SeniorCitizen  MonthlyCharges  TotalCharges\n",
       "6924              0           69.35        69.350\n",
       "5249              0           67.20      4671.700\n",
       "5852              1           69.10      1474.750\n",
       "3597              0           95.70      2338.350\n",
       "4147              1           24.85      1901.000\n",
       "...             ...             ...           ...\n",
       "5218              0           19.70      1397.475\n",
       "4060              0           63.35      3409.100\n",
       "1346              0           87.25      1258.600\n",
       "3454              1           35.65      1025.150\n",
       "3582              0           80.50       232.350\n",
       "\n",
       "[5634 rows x 3 columns]"
      ]
     },
     "execution_count": 34,
     "metadata": {},
     "output_type": "execute_result"
    }
   ],
   "source": [
    "X_train"
   ]
  },
  {
   "cell_type": "code",
   "execution_count": 35,
   "id": "c2ec6751",
   "metadata": {},
   "outputs": [
    {
     "data": {
      "text/plain": [
       "<BarContainer object of 3 artists>"
      ]
     },
     "execution_count": 35,
     "metadata": {},
     "output_type": "execute_result"
    },
    {
     "data": {
      "image/png": "[encoded data removed]",
      "text/plain": [
       "<Figure size 1008x432 with 1 Axes>"
      ]
     },
     "metadata": {
      "needs_background": "light"
     },
     "output_type": "display_data"
    }
   ],
   "source": [
    "plt.figure(figsize=(14,6))\n",
    "plt.barh(X.columns,dt_model.feature_importances_)"
   ]
  },
  {
   "cell_type": "code",
   "execution_count": 36,
   "id": "42d19366",
   "metadata": {},
   "outputs": [
    {
     "data": {
      "image/png": "[encoded data removed]",
      "text/plain": [
       "<Figure size 1440x720 with 1 Axes>"
      ]
     },
     "metadata": {
      "needs_background": "light"
     },
     "output_type": "display_data"
    }
   ],
   "source": [
    "from sklearn.tree import plot_tree\n",
    "fig, axes = plt.subplots(nrows = 1,ncols = 1,figsize = (20,10))\n",
    "\n",
    "plot_tree(dt_model, \n",
    "          filled = True, \n",
    "          rounded = True,  \n",
    "          # show the feature names\n",
    "          feature_names = X_train.columns)\n",
    "plt.show()"
   ]
  },
  {
   "cell_type": "code",
   "execution_count": 37,
   "id": "be7e8bec",
   "metadata": {},
   "outputs": [
    {
     "data": {
      "text/html": [
       "<div>\n",
       "<style scoped>\n",
       "    .dataframe tbody tr th:only-of-type {\n",
       "        vertical-align: middle;\n",
       "    }\n",
       "\n",
       "    .dataframe tbody tr th {\n",
       "        vertical-align: top;\n",
       "    }\n",
       "\n",
       "    .dataframe thead th {\n",
       "        text-align: right;\n",
       "    }\n",
       "</style>\n",
       "<table border=\"1\" class=\"dataframe\">\n",
       "  <thead>\n",
       "    <tr style=\"text-align: right;\">\n",
       "      <th></th>\n",
       "      <th>Error_metric</th>\n",
       "      <th>Train</th>\n",
       "      <th>Test</th>\n",
       "    </tr>\n",
       "  </thead>\n",
       "  <tbody>\n",
       "    <tr>\n",
       "      <th>0</th>\n",
       "      <td>Accuracy</td>\n",
       "      <td>0.804934</td>\n",
       "      <td>0.780696</td>\n",
       "    </tr>\n",
       "    <tr>\n",
       "      <th>1</th>\n",
       "      <td>Precision</td>\n",
       "      <td>0.694215</td>\n",
       "      <td>0.673469</td>\n",
       "    </tr>\n",
       "    <tr>\n",
       "      <th>2</th>\n",
       "      <td>Recall</td>\n",
       "      <td>0.455593</td>\n",
       "      <td>0.418782</td>\n",
       "    </tr>\n",
       "  </tbody>\n",
       "</table>\n",
       "</div>"
      ],
      "text/plain": [
       "  Error_metric     Train      Test\n",
       "0     Accuracy  0.804934  0.780696\n",
       "1    Precision  0.694215  0.673469\n",
       "2       Recall  0.455593  0.418782"
      ]
     },
     "metadata": {},
     "output_type": "display_data"
    }
   ],
   "source": [
    "# Performance\n",
    "\n",
    "y_train_np = y_train.to_numpy()\n",
    "y_test_np = y_test.to_numpy()\n",
    "\n",
    "performance_td = pd.DataFrame({'Error_metric': ['Accuracy','Precision','Recall'],\n",
    "                                'Train': [accuracy_score(y_train_np, y_pred_train_td),\n",
    "                                          precision_score(y_train_np, y_pred_train_td, pos_label='Yes'),\n",
    "                                          recall_score(y_train_np, y_pred_train_td, pos_label='Yes')],\n",
    "                                'Test': [accuracy_score(y_test_np, y_pred_test_td),\n",
    "                                         precision_score(y_test_np, y_pred_test_td, pos_label='Yes'),\n",
    "                                         recall_score(y_test_np, y_pred_test_td, pos_label='Yes')]})\n",
    "\n",
    "display(performance_td)"
   ]
  },
  {
   "cell_type": "code",
   "execution_count": 38,
   "id": "314dde24",
   "metadata": {},
   "outputs": [
    {
     "data": {
      "image/png": "[encoded data removed]",
      "text/plain": [
       "<Figure size 1008x288 with 4 Axes>"
      ]
     },
     "metadata": {
      "needs_background": "light"
     },
     "output_type": "display_data"
    }
   ],
   "source": [
    "from sklearn.metrics import confusion_matrix, ConfusionMatrixDisplay\n",
    "\n",
    "fig, ax = plt.subplots(1,2, figsize=(14,4))\n",
    "\n",
    "cm_train = confusion_matrix(y_train_np, y_pred_train_td)\n",
    "cm_test = confusion_matrix(y_test_np, y_pred_test_td)\n",
    "\n",
    "ConfusionMatrixDisplay(cm_train, display_labels=dt_model.classes_).plot(ax=ax[0], values_format='d')\n",
    "ax[0].set_title(\"Train Set\")\n",
    "\n",
    "ConfusionMatrixDisplay(cm_test, display_labels=dt_model.classes_).plot(ax=ax[1], values_format='d')\n",
    "ax[1].set_title(\"Test Set\")\n",
    "\n",
    "plt.show()"
   ]
  },
  {
   "cell_type": "markdown",
   "id": "881a1b9a",
   "metadata": {},
   "source": [
    "# Round 3"
   ]
  },
  {
   "cell_type": "markdown",
   "id": "cbe4ec4e",
   "metadata": {},
   "source": [
    "## 3.1 Applying K-fold Cross Validation"
   ]
  },
  {
   "cell_type": "code",
   "execution_count": 39,
   "id": "91f2dd16",
   "metadata": {},
   "outputs": [
    {
     "name": "stdout",
     "output_type": "stream",
     "text": [
      "{'Logistical Regression': 0.7934031845609262, 'K-Nearest Neighbors': 0.7894977514077322, 'Decision Tree': 0.7914436970132145}\n"
     ]
    }
   ],
   "source": [
    "model_pipeline = [log_model, knn_model, dt_model]\n",
    "model_names = ['Logistical Regression', 'K-Nearest Neighbors', 'Decision Tree']\n",
    "scores = {}\n",
    "i=0\n",
    "for model in model_pipeline:\n",
    "    mean_score = np.mean(cross_val_score(model, X_train, y_train, cv=10))\n",
    "    scores[model_names[i]] = mean_score\n",
    "    i = i+1\n",
    "print(scores)"
   ]
  },
  {
   "cell_type": "code",
   "execution_count": 40,
   "id": "8d020b08",
   "metadata": {},
   "outputs": [
    {
     "name": "stdout",
     "output_type": "stream",
     "text": [
      "Comparing the 3 regression scores we find \n",
      "\n"
     ]
    },
    {
     "data": {
      "text/html": [
       "<div>\n",
       "<style scoped>\n",
       "    .dataframe tbody tr th:only-of-type {\n",
       "        vertical-align: middle;\n",
       "    }\n",
       "\n",
       "    .dataframe tbody tr th {\n",
       "        vertical-align: top;\n",
       "    }\n",
       "\n",
       "    .dataframe thead th {\n",
       "        text-align: right;\n",
       "    }\n",
       "</style>\n",
       "<table border=\"1\" class=\"dataframe\">\n",
       "  <thead>\n",
       "    <tr style=\"text-align: right;\">\n",
       "      <th></th>\n",
       "      <th>Logistical Regression</th>\n",
       "      <th>K-Nearest Neighbors</th>\n",
       "      <th>Decision Tree</th>\n",
       "    </tr>\n",
       "  </thead>\n",
       "  <tbody>\n",
       "    <tr>\n",
       "      <th>score</th>\n",
       "      <td>0.793403</td>\n",
       "      <td>0.789498</td>\n",
       "      <td>0.791444</td>\n",
       "    </tr>\n",
       "  </tbody>\n",
       "</table>\n",
       "</div>"
      ],
      "text/plain": [
       "       Logistical Regression  K-Nearest Neighbors  Decision Tree\n",
       "score               0.793403             0.789498       0.791444"
      ]
     },
     "execution_count": 40,
     "metadata": {},
     "output_type": "execute_result"
    }
   ],
   "source": [
    "print(\"Comparing the 3 regression scores we find \\n\")\n",
    "\n",
    "compare_models = pd.DataFrame([scores], index=[\"score\"])\n",
    "compare_models"
   ]
  },
  {
   "cell_type": "code",
   "execution_count": null,
   "id": "ad332fe9",
   "metadata": {},
   "outputs": [],
   "source": []
  },
  {
   "cell_type": "code",
   "execution_count": 69,
   "id": "dafead72",
   "metadata": {},
   "outputs": [
    {
     "data": {
      "image/png": "[encoded data removed]",
      "text/plain": [
       "<Figure size 1008x288 with 1 Axes>"
      ]
     },
     "metadata": {
      "needs_background": "light"
     },
     "output_type": "display_data"
    }
   ],
   "source": [
    "import matplotlib.pyplot as plt\n",
    "# Create a figure and axis object\n",
    "fig, ax = plt.subplots(figsize=(14,4))\n",
    "\n",
    "# Create the horizontal bar chart\n",
    "ax.barh(list(scores.keys()), list(scores.values()))\n",
    "\n",
    "# Set the title and axis labels\n",
    "ax.set_title('Model Performance')\n",
    "ax.set_xlabel('Accuracy')\n",
    "ax.set_ylabel('Model')\n",
    "\n",
    "# Set the x-axis range\n",
    "ax.set_xlim([0.6, 0.9])\n",
    "\n",
    "# Display the chart\n",
    "plt.show()\n"
   ]
  },
  {
   "cell_type": "markdown",
   "id": "e610dfca",
   "metadata": {},
   "source": [
    "## 3.2. Managing Imbalance in the Dataset"
   ]
  },
  {
   "cell_type": "markdown",
   "id": "b7d65b7f",
   "metadata": {},
   "source": [
    "### 3.2.1. Upsampling"
   ]
  },
  {
   "cell_type": "markdown",
   "id": "c072233a",
   "metadata": {},
   "source": [
    "#### 3.2.1.1. Using SMOTE"
   ]
  },
  {
   "cell_type": "code",
   "execution_count": 42,
   "id": "2135f6eb",
   "metadata": {},
   "outputs": [
    {
     "name": "stdout",
     "output_type": "stream",
     "text": [
      "Requirement already satisfied: imbalanced-learn in /Users/marcelzhang/opt/anaconda3/lib/python3.9/site-packages (0.10.1)\n",
      "Requirement already satisfied: numpy>=1.17.3 in /Users/marcelzhang/opt/anaconda3/lib/python3.9/site-packages (from imbalanced-learn) (1.21.5)\n",
      "Requirement already satisfied: joblib>=1.1.1 in /Users/marcelzhang/opt/anaconda3/lib/python3.9/site-packages (from imbalanced-learn) (1.2.0)\n",
      "Requirement already satisfied: threadpoolctl>=2.0.0 in /Users/marcelzhang/opt/anaconda3/lib/python3.9/site-packages (from imbalanced-learn) (2.2.0)\n",
      "Requirement already satisfied: scipy>=1.3.2 in /Users/marcelzhang/opt/anaconda3/lib/python3.9/site-packages (from imbalanced-learn) (1.7.3)\n",
      "Requirement already satisfied: scikit-learn>=1.0.2 in /Users/marcelzhang/opt/anaconda3/lib/python3.9/site-packages (from imbalanced-learn) (1.0.2)\n",
      "Note: you may need to restart the kernel to use updated packages.\n"
     ]
    }
   ],
   "source": [
    "%pip install imbalanced-learn\n",
    "from imblearn.over_sampling import SMOTE\n",
    "smote = SMOTE()"
   ]
  },
  {
   "cell_type": "code",
   "execution_count": 43,
   "id": "1444e265",
   "metadata": {},
   "outputs": [
    {
     "data": {
      "text/plain": [
       "No     4159\n",
       "Yes    1475\n",
       "Name: Churn, dtype: int64"
      ]
     },
     "execution_count": 43,
     "metadata": {},
     "output_type": "execute_result"
    }
   ],
   "source": [
    "# Check the inbalance\n",
    "y_train.value_counts()"
   ]
  },
  {
   "cell_type": "code",
   "execution_count": 44,
   "id": "4063cba1",
   "metadata": {},
   "outputs": [
    {
     "data": {
      "text/plain": [
       "Yes    4159\n",
       "No     4159\n",
       "Name: Churn, dtype: int64"
      ]
     },
     "execution_count": 44,
     "metadata": {},
     "output_type": "execute_result"
    }
   ],
   "source": [
    "X_train_sm, y_train_sm = smote.fit_resample(X_train, y_train)\n",
    "y_train_sm.value_counts()"
   ]
  },
  {
   "cell_type": "markdown",
   "id": "61a70ba0",
   "metadata": {},
   "source": [
    "#### 3.2.1.1. K-fold Cross Validation - Upsampling (SMOTE)"
   ]
  },
  {
   "cell_type": "code",
   "execution_count": 45,
   "id": "355bd910",
   "metadata": {},
   "outputs": [],
   "source": [
    "# apply to upsampled train sets and get models\n",
    "log_model_sm = get_model_LogisticRegression(X_train_sm, X_test, y_train_sm, y_test)\n",
    "knn_model_sm = get_model_KNeighborsClassifier(X_train_sm, X_test, y_train_sm, y_test, n_neighbors = best_n_neighbor)\n",
    "dt_model_sm = get_model_DecisionTreeClassifier(X_train_sm, X_test, y_train_sm, y_test, max_depth = best_max_depth)"
   ]
  },
  {
   "cell_type": "code",
   "execution_count": 46,
   "id": "fd1c3fde",
   "metadata": {},
   "outputs": [
    {
     "name": "stdout",
     "output_type": "stream",
     "text": [
      "{'Logistical Regression': 0.7180809150236046, 'K-Nearest Neighbors': 0.7236129431639359, 'Decision Tree': 0.7503061938813294}\n"
     ]
    }
   ],
   "source": [
    "model_pipeline = [log_model_sm, knn_model_sm, dt_model_sm]\n",
    "model_names = ['Logistical Regression', 'K-Nearest Neighbors', 'Decision Tree']\n",
    "scores_sm = {}\n",
    "i=0\n",
    "for model in model_pipeline:\n",
    "    mean_score = np.mean(cross_val_score(model, X_train_sm, y_train_sm, cv=10))\n",
    "    scores_sm[model_names[i]] = mean_score\n",
    "    i = i+1\n",
    "print(scores_sm)"
   ]
  },
  {
   "cell_type": "code",
   "execution_count": 77,
   "id": "0d98e5f3",
   "metadata": {},
   "outputs": [
    {
     "data": {
      "text/html": [
       "<div>\n",
       "<style scoped>\n",
       "    .dataframe tbody tr th:only-of-type {\n",
       "        vertical-align: middle;\n",
       "    }\n",
       "\n",
       "    .dataframe tbody tr th {\n",
       "        vertical-align: top;\n",
       "    }\n",
       "\n",
       "    .dataframe thead th {\n",
       "        text-align: right;\n",
       "    }\n",
       "</style>\n",
       "<table border=\"1\" class=\"dataframe\">\n",
       "  <thead>\n",
       "    <tr style=\"text-align: right;\">\n",
       "      <th></th>\n",
       "      <th>Logistical Regression</th>\n",
       "      <th>K-Nearest Neighbors</th>\n",
       "      <th>Decision Tree</th>\n",
       "      <th>sampling</th>\n",
       "    </tr>\n",
       "  </thead>\n",
       "  <tbody>\n",
       "    <tr>\n",
       "      <th>Upsampling (SMOTE)</th>\n",
       "      <td>0.718081</td>\n",
       "      <td>0.723613</td>\n",
       "      <td>0.750306</td>\n",
       "      <td>Upsampling (SMOTE)</td>\n",
       "    </tr>\n",
       "  </tbody>\n",
       "</table>\n",
       "</div>"
      ],
      "text/plain": [
       "                    Logistical Regression  K-Nearest Neighbors  Decision Tree  \\\n",
       "Upsampling (SMOTE)               0.718081             0.723613       0.750306   \n",
       "\n",
       "                              sampling  \n",
       "Upsampling (SMOTE)  Upsampling (SMOTE)  "
      ]
     },
     "execution_count": 77,
     "metadata": {},
     "output_type": "execute_result"
    }
   ],
   "source": [
    "scores_sm_df = pd.DataFrame([scores_sm], index=[\"Upsampling (SMOTE)\"])\n",
    "scores_sm_df['sampling'] = 'Upsampling (SMOTE)'\n",
    "scores_sm_df"
   ]
  },
  {
   "cell_type": "code",
   "execution_count": 68,
   "id": "f41209e1",
   "metadata": {
    "scrolled": true
   },
   "outputs": [
    {
     "data": {
      "image/png": "[encoded data removed]",
      "text/plain": [
       "<Figure size 1008x288 with 1 Axes>"
      ]
     },
     "metadata": {
      "needs_background": "light"
     },
     "output_type": "display_data"
    }
   ],
   "source": [
    "import matplotlib.pyplot as plt\n",
    "# Create a figure and axis object\n",
    "fig, ax = plt.subplots(figsize=(14,4))\n",
    "\n",
    "# Create the horizontal bar chart\n",
    "ax.barh(list(scores_sm.keys()), list(scores_sm.values()))\n",
    "\n",
    "# Set the title and axis labels\n",
    "ax.set_title('Model Performance')\n",
    "ax.set_xlabel('Accuracy')\n",
    "ax.set_ylabel('Model')\n",
    "\n",
    "# Set the x-axis range\n",
    "ax.set_xlim([0.6, 0.9])\n",
    "\n",
    "# Display the chart\n",
    "plt.show()"
   ]
  },
  {
   "cell_type": "markdown",
   "id": "7c9a21dd",
   "metadata": {},
   "source": [
    "#### 3.2.1.1. Using Pandas Sample"
   ]
  },
  {
   "cell_type": "code",
   "execution_count": 48,
   "id": "93e4e7b1",
   "metadata": {},
   "outputs": [],
   "source": [
    "# Assemble train set\n",
    "\n",
    "train = pd.concat([X_train, y_train.to_frame()], axis=1)\n",
    "\n",
    "category_no = train[train['Churn'] == 'No'] # negative class (majority)\n",
    "category_yes = train[train['Churn'] == 'Yes'] # positive class (minority)\n",
    "\n",
    "no_len = len(category_no)\n",
    "\n",
    "category_yes_up = category_yes.sample(no_len, replace = True)"
   ]
  },
  {
   "cell_type": "code",
   "execution_count": 49,
   "id": "c448faf4",
   "metadata": {},
   "outputs": [
    {
     "data": {
      "text/plain": [
       "Yes    4159\n",
       "No     4159\n",
       "Name: Churn, dtype: int64"
      ]
     },
     "execution_count": 49,
     "metadata": {},
     "output_type": "execute_result"
    }
   ],
   "source": [
    "# reassemble the data\n",
    "train_up = pd.concat([category_no, category_yes_up], axis=0)\n",
    "# shuffle the data\n",
    "train_up = train_up.sample(frac=1) # frac specifies ratio of the shuffled output to the input size. for frac=1 the number of rows is unchanged\n",
    "train_up['Churn'].value_counts()"
   ]
  },
  {
   "cell_type": "code",
   "execution_count": 50,
   "id": "735e0403",
   "metadata": {},
   "outputs": [],
   "source": [
    "X_train_up = train_up.drop(['Churn'], axis=1)\n",
    "y_train_up = train_up['Churn']"
   ]
  },
  {
   "cell_type": "markdown",
   "id": "da47d1a0",
   "metadata": {},
   "source": [
    "#### K-fold Cross Validation - Upsampling (Pandas Sample)"
   ]
  },
  {
   "cell_type": "code",
   "execution_count": 51,
   "id": "62db4f95",
   "metadata": {},
   "outputs": [],
   "source": [
    "# apply to upsampled train sets and get models\n",
    "log_model_up = get_model_LogisticRegression(X_train_up, X_test, y_train_up, y_test)\n",
    "knn_model_up = get_model_KNeighborsClassifier(X_train_up, X_test, y_train_up, y_test, n_neighbors = best_n_neighbor)\n",
    "dt_model_up = get_model_DecisionTreeClassifier(X_train_up, X_test, y_train_up, y_test, max_depth = best_max_depth)"
   ]
  },
  {
   "cell_type": "code",
   "execution_count": 52,
   "id": "c857ef5a",
   "metadata": {},
   "outputs": [
    {
     "name": "stdout",
     "output_type": "stream",
     "text": [
      "{'Logistical Regression': 0.7190441567602572, 'K-Nearest Neighbors': 0.7218096639530043, 'Decision Tree': 0.866674640940839}\n"
     ]
    }
   ],
   "source": [
    "model_pipeline = [log_model_up, knn_model_up, dt_model_up]\n",
    "model_names = ['Logistical Regression', 'K-Nearest Neighbors', 'Decision Tree']\n",
    "scores_up = {}\n",
    "i=0\n",
    "for model in model_pipeline:\n",
    "    mean_score = np.mean(cross_val_score(model, X_train_up, y_train_up, cv=5))\n",
    "    scores_up[model_names[i]] = mean_score\n",
    "    i = i+1\n",
    "print(scores_up)"
   ]
  },
  {
   "cell_type": "code",
   "execution_count": 76,
   "id": "8bdd87a3",
   "metadata": {},
   "outputs": [
    {
     "data": {
      "text/html": [
       "<div>\n",
       "<style scoped>\n",
       "    .dataframe tbody tr th:only-of-type {\n",
       "        vertical-align: middle;\n",
       "    }\n",
       "\n",
       "    .dataframe tbody tr th {\n",
       "        vertical-align: top;\n",
       "    }\n",
       "\n",
       "    .dataframe thead th {\n",
       "        text-align: right;\n",
       "    }\n",
       "</style>\n",
       "<table border=\"1\" class=\"dataframe\">\n",
       "  <thead>\n",
       "    <tr style=\"text-align: right;\">\n",
       "      <th></th>\n",
       "      <th>Logistical Regression</th>\n",
       "      <th>K-Nearest Neighbors</th>\n",
       "      <th>Decision Tree</th>\n",
       "      <th>sampling</th>\n",
       "    </tr>\n",
       "  </thead>\n",
       "  <tbody>\n",
       "    <tr>\n",
       "      <th>Upsampling (Pandas Sample)</th>\n",
       "      <td>0.719044</td>\n",
       "      <td>0.72181</td>\n",
       "      <td>0.866675</td>\n",
       "      <td>Upsampling (Pandas Sample)</td>\n",
       "    </tr>\n",
       "  </tbody>\n",
       "</table>\n",
       "</div>"
      ],
      "text/plain": [
       "                            Logistical Regression  K-Nearest Neighbors  \\\n",
       "Upsampling (Pandas Sample)               0.719044              0.72181   \n",
       "\n",
       "                            Decision Tree                    sampling  \n",
       "Upsampling (Pandas Sample)       0.866675  Upsampling (Pandas Sample)  "
      ]
     },
     "execution_count": 76,
     "metadata": {},
     "output_type": "execute_result"
    }
   ],
   "source": [
    "scores_up_df = pd.DataFrame([scores_up], index=[\"Upsampling (Pandas Sample)\"])\n",
    "scores_up_df['sampling'] = 'Upsampling (Pandas Sample)'\n",
    "scores_up_df"
   ]
  },
  {
   "cell_type": "code",
   "execution_count": 67,
   "id": "a827627a",
   "metadata": {
    "scrolled": true
   },
   "outputs": [
    {
     "data": {
      "image/png": "[encoded data removed]",
      "text/plain": [
       "<Figure size 1008x288 with 1 Axes>"
      ]
     },
     "metadata": {
      "needs_background": "light"
     },
     "output_type": "display_data"
    }
   ],
   "source": [
    "import matplotlib.pyplot as plt\n",
    "# Create a figure and axis object\n",
    "fig, ax = plt.subplots(figsize=(14,4))\n",
    "\n",
    "# Create the horizontal bar chart\n",
    "ax.barh(list(scores_up.keys()), list(scores_up.values()))\n",
    "\n",
    "# Set the title and axis labels\n",
    "ax.set_title('Model Performance')\n",
    "ax.set_xlabel('Accuracy')\n",
    "ax.set_ylabel('Model')\n",
    "\n",
    "# Set the x-axis range\n",
    "ax.set_xlim([0.6, 0.9])\n",
    "\n",
    "# Display the chart\n",
    "plt.show()"
   ]
  },
  {
   "cell_type": "code",
   "execution_count": null,
   "id": "9c93c732",
   "metadata": {},
   "outputs": [],
   "source": []
  },
  {
   "cell_type": "markdown",
   "id": "0acd6c98",
   "metadata": {},
   "source": [
    "### 3.2.2. Downsampling"
   ]
  },
  {
   "cell_type": "markdown",
   "id": "e5d15153",
   "metadata": {},
   "source": [
    "#### 3.2.2.1.  Using TomekLinks"
   ]
  },
  {
   "cell_type": "code",
   "execution_count": 54,
   "id": "3ecd2823",
   "metadata": {},
   "outputs": [
    {
     "data": {
      "text/plain": [
       "No     3710\n",
       "Yes    1475\n",
       "Name: Churn, dtype: int64"
      ]
     },
     "execution_count": 54,
     "metadata": {},
     "output_type": "execute_result"
    }
   ],
   "source": [
    "from imblearn.under_sampling import TomekLinks\n",
    "\n",
    "tl = TomekLinks(sampling_strategy='majority') # resample only the majority class\n",
    "X_train_tl, y_train_tl = tl.fit_resample(X_train, y_train) # returns resampled data\n",
    "y_train_tl.value_counts() # check the distribution of resampled labels"
   ]
  },
  {
   "cell_type": "markdown",
   "id": "623af7ec",
   "metadata": {},
   "source": [
    "#### K-fold Cross Validation - Downsampling (TomekLinks)"
   ]
  },
  {
   "cell_type": "code",
   "execution_count": 55,
   "id": "12a2fe6e",
   "metadata": {},
   "outputs": [],
   "source": [
    "# apply to upsampled train sets and get models\n",
    "log_model_tl = get_model_LogisticRegression(X_train_tl, X_test, y_train_tl, y_test)\n",
    "knn_model_tl = get_model_KNeighborsClassifier(X_train_tl, X_test, y_train_tl, y_test, n_neighbors = best_n_neighbor)\n",
    "dt_model_tl = get_model_DecisionTreeClassifier(X_train_tl, X_test, y_train_tl, y_test, max_depth = best_max_depth)"
   ]
  },
  {
   "cell_type": "code",
   "execution_count": 56,
   "id": "3284a1c7",
   "metadata": {},
   "outputs": [
    {
     "name": "stdout",
     "output_type": "stream",
     "text": [
      "{'Logistical Regression': 0.7915139826422373, 'K-Nearest Neighbors': 0.781099324975892, 'Decision Tree': 0.7515911282545806}\n"
     ]
    }
   ],
   "source": [
    "model_pipeline = [log_model_tl, knn_model_tl, dt_model_tl]\n",
    "model_names = ['Logistical Regression', 'K-Nearest Neighbors', 'Decision Tree']\n",
    "scores_tl = {}\n",
    "i=0\n",
    "for model in model_pipeline:\n",
    "    mean_score = np.mean(cross_val_score(model, X_train_tl, y_train_tl, cv=5))\n",
    "    scores_tl[model_names[i]] = mean_score\n",
    "    i = i+1\n",
    "print(scores_tl)"
   ]
  },
  {
   "cell_type": "code",
   "execution_count": 74,
   "id": "a71f6922",
   "metadata": {},
   "outputs": [
    {
     "data": {
      "text/html": [
       "<div>\n",
       "<style scoped>\n",
       "    .dataframe tbody tr th:only-of-type {\n",
       "        vertical-align: middle;\n",
       "    }\n",
       "\n",
       "    .dataframe tbody tr th {\n",
       "        vertical-align: top;\n",
       "    }\n",
       "\n",
       "    .dataframe thead th {\n",
       "        text-align: right;\n",
       "    }\n",
       "</style>\n",
       "<table border=\"1\" class=\"dataframe\">\n",
       "  <thead>\n",
       "    <tr style=\"text-align: right;\">\n",
       "      <th></th>\n",
       "      <th>Logistical Regression</th>\n",
       "      <th>K-Nearest Neighbors</th>\n",
       "      <th>Decision Tree</th>\n",
       "      <th>sampling</th>\n",
       "    </tr>\n",
       "  </thead>\n",
       "  <tbody>\n",
       "    <tr>\n",
       "      <th>Downsampling (TomekLinks)</th>\n",
       "      <td>0.791514</td>\n",
       "      <td>0.781099</td>\n",
       "      <td>0.751591</td>\n",
       "      <td>Downsampling (TomekLinks)</td>\n",
       "    </tr>\n",
       "  </tbody>\n",
       "</table>\n",
       "</div>"
      ],
      "text/plain": [
       "                           Logistical Regression  K-Nearest Neighbors  \\\n",
       "Downsampling (TomekLinks)               0.791514             0.781099   \n",
       "\n",
       "                           Decision Tree                   sampling  \n",
       "Downsampling (TomekLinks)       0.751591  Downsampling (TomekLinks)  "
      ]
     },
     "execution_count": 74,
     "metadata": {},
     "output_type": "execute_result"
    }
   ],
   "source": [
    "scores_tl_df = pd.DataFrame([scores_tl], index=[\"Downsampling (TomekLinks)\"])\n",
    "scores_tl_df['sampling'] = 'Downsampling (TomekLinks)'\n",
    "scores_tl_df"
   ]
  },
  {
   "cell_type": "code",
   "execution_count": 66,
   "id": "da65838c",
   "metadata": {
    "scrolled": true
   },
   "outputs": [
    {
     "data": {
      "image/png": "[encoded data removed]",
      "text/plain": [
       "<Figure size 1008x288 with 1 Axes>"
      ]
     },
     "metadata": {
      "needs_background": "light"
     },
     "output_type": "display_data"
    }
   ],
   "source": [
    "import matplotlib.pyplot as plt\n",
    "# Create a figure and axis object\n",
    "fig, ax = plt.subplots(figsize=(14,4))\n",
    "\n",
    "# Create the horizontal bar chart\n",
    "ax.barh(list(scores_tl.keys()), list(scores_tl.values()))\n",
    "\n",
    "# Set the title and axis labels\n",
    "ax.set_title('Model Performance')\n",
    "ax.set_xlabel('Accuracy')\n",
    "ax.set_ylabel('Model')\n",
    "\n",
    "# Set the x-axis range\n",
    "ax.set_xlim([0.6, 0.9])\n",
    "\n",
    "# Display the chart\n",
    "plt.show()"
   ]
  },
  {
   "cell_type": "markdown",
   "id": "71222f2b",
   "metadata": {},
   "source": [
    "#### 3.2.2.2. Using Pandas Sample"
   ]
  },
  {
   "cell_type": "code",
   "execution_count": 58,
   "id": "d6fa4eea",
   "metadata": {},
   "outputs": [],
   "source": [
    "# Assemble train set\n",
    "\n",
    "train = pd.concat([X_train, y_train.to_frame()], axis=1)\n",
    "\n",
    "category_no = train[train['Churn'] == 'No'] # negative class (majority)\n",
    "category_yes = train[train['Churn'] == 'Yes'] # positive class (minority)\n",
    "\n",
    "yes_len = len(category_yes)\n",
    "\n",
    "category_no_down = category_no.sample(yes_len)"
   ]
  },
  {
   "cell_type": "code",
   "execution_count": 59,
   "id": "dc9e77dc",
   "metadata": {},
   "outputs": [
    {
     "data": {
      "text/plain": [
       "Yes    1475\n",
       "No     1475\n",
       "Name: Churn, dtype: int64"
      ]
     },
     "execution_count": 59,
     "metadata": {},
     "output_type": "execute_result"
    }
   ],
   "source": [
    "# reassemble the data\n",
    "train_down = pd.concat([category_no_down, category_yes], axis=0)\n",
    "# shuffle the data\n",
    "train_down = train_down.sample(frac=1) # frac specifies ratio of the shuffled output to the input size. for frac=1 the number of rows is unchanged\n",
    "train_down['Churn'].value_counts()"
   ]
  },
  {
   "cell_type": "code",
   "execution_count": 60,
   "id": "2dad6aee",
   "metadata": {},
   "outputs": [],
   "source": [
    "X_train_down = train_down.drop(['Churn'], axis=1)\n",
    "y_train_down = train_down['Churn']"
   ]
  },
  {
   "cell_type": "markdown",
   "id": "0e3a7fa1",
   "metadata": {},
   "source": [
    "#### K-fold Cross Validation - Downsampling (Pandas Sample)"
   ]
  },
  {
   "cell_type": "code",
   "execution_count": 61,
   "id": "5bb38081",
   "metadata": {},
   "outputs": [],
   "source": [
    "# apply to upsampled train sets and get models\n",
    "log_model_down = get_model_LogisticRegression(X_train_down, X_test, y_train_down, y_test)\n",
    "knn_model_down = get_model_KNeighborsClassifier(X_train_down, X_test, y_train_down, y_test, n_neighbors = best_n_neighbor)\n",
    "dt_model_down = get_model_DecisionTreeClassifier(X_train_down, X_test, y_train_down, y_test, max_depth = best_max_depth)"
   ]
  },
  {
   "cell_type": "code",
   "execution_count": 62,
   "id": "fd227db9",
   "metadata": {},
   "outputs": [
    {
     "name": "stdout",
     "output_type": "stream",
     "text": [
      "{'Logistical Regression': 0.7220338983050847, 'K-Nearest Neighbors': 0.6854237288135593, 'Decision Tree': 0.6586440677966101}\n"
     ]
    }
   ],
   "source": [
    "model_pipeline = [log_model_down, knn_model_down, dt_model_down]\n",
    "model_names = ['Logistical Regression', 'K-Nearest Neighbors', 'Decision Tree']\n",
    "scores_down = {}\n",
    "i=0\n",
    "for model in model_pipeline:\n",
    "    mean_score = np.mean(cross_val_score(model, X_train_down, y_train_down, cv=5))\n",
    "    scores_down[model_names[i]] = mean_score\n",
    "    i = i+1\n",
    "print(scores_down)"
   ]
  },
  {
   "cell_type": "code",
   "execution_count": 75,
   "id": "e621ec2e",
   "metadata": {},
   "outputs": [
    {
     "data": {
      "text/html": [
       "<div>\n",
       "<style scoped>\n",
       "    .dataframe tbody tr th:only-of-type {\n",
       "        vertical-align: middle;\n",
       "    }\n",
       "\n",
       "    .dataframe tbody tr th {\n",
       "        vertical-align: top;\n",
       "    }\n",
       "\n",
       "    .dataframe thead th {\n",
       "        text-align: right;\n",
       "    }\n",
       "</style>\n",
       "<table border=\"1\" class=\"dataframe\">\n",
       "  <thead>\n",
       "    <tr style=\"text-align: right;\">\n",
       "      <th></th>\n",
       "      <th>Logistical Regression</th>\n",
       "      <th>K-Nearest Neighbors</th>\n",
       "      <th>Decision Tree</th>\n",
       "      <th>sampling</th>\n",
       "    </tr>\n",
       "  </thead>\n",
       "  <tbody>\n",
       "    <tr>\n",
       "      <th>Downsampling (Pandas Sample)</th>\n",
       "      <td>0.722034</td>\n",
       "      <td>0.685424</td>\n",
       "      <td>0.658644</td>\n",
       "      <td>Downsampling (Pandas Sample)</td>\n",
       "    </tr>\n",
       "  </tbody>\n",
       "</table>\n",
       "</div>"
      ],
      "text/plain": [
       "                              Logistical Regression  K-Nearest Neighbors  \\\n",
       "Downsampling (Pandas Sample)               0.722034             0.685424   \n",
       "\n",
       "                              Decision Tree                      sampling  \n",
       "Downsampling (Pandas Sample)       0.658644  Downsampling (Pandas Sample)  "
      ]
     },
     "execution_count": 75,
     "metadata": {},
     "output_type": "execute_result"
    }
   ],
   "source": [
    "scores_down_df = pd.DataFrame([scores_down], index=[\"Downsampling (Pandas Sample)\"])\n",
    "scores_down_df['sampling'] = 'Downsampling (Pandas Sample)'\n",
    "scores_down_df"
   ]
  },
  {
   "cell_type": "code",
   "execution_count": 65,
   "id": "78f05da5",
   "metadata": {
    "scrolled": true
   },
   "outputs": [
    {
     "data": {
      "image/png": "[encoded data removed]",
      "text/plain": [
       "<Figure size 1008x288 with 1 Axes>"
      ]
     },
     "metadata": {
      "needs_background": "light"
     },
     "output_type": "display_data"
    }
   ],
   "source": [
    "import matplotlib.pyplot as plt\n",
    "# Create a figure and axis object\n",
    "fig, ax = plt.subplots(figsize=(14,4))\n",
    "\n",
    "# Create the horizontal bar chart\n",
    "ax.barh(list(scores_down.keys()), list(scores_down.values()))\n",
    "\n",
    "# Set the title and axis labels\n",
    "ax.set_title('Model Performance')\n",
    "ax.set_xlabel('Accuracy')\n",
    "ax.set_ylabel('Model')\n",
    "\n",
    "# Set the x-axis range\n",
    "ax.set_xlim([0.6, 0.9])\n",
    "\n",
    "# Display the chart\n",
    "plt.show()"
   ]
  },
  {
   "cell_type": "code",
   "execution_count": null,
   "id": "d015663d",
   "metadata": {},
   "outputs": [],
   "source": [
    "### 3.2.3. Compare Sampling Methods"
   ]
  },
  {
   "cell_type": "code",
   "execution_count": 80,
   "id": "9d2ea71e",
   "metadata": {},
   "outputs": [],
   "source": [
    "compare_models['sampling'] = 'None'"
   ]
  },
  {
   "cell_type": "code",
   "execution_count": 83,
   "id": "9bd54808",
   "metadata": {},
   "outputs": [
    {
     "data": {
      "text/html": [
       "<div>\n",
       "<style scoped>\n",
       "    .dataframe tbody tr th:only-of-type {\n",
       "        vertical-align: middle;\n",
       "    }\n",
       "\n",
       "    .dataframe tbody tr th {\n",
       "        vertical-align: top;\n",
       "    }\n",
       "\n",
       "    .dataframe thead th {\n",
       "        text-align: right;\n",
       "    }\n",
       "</style>\n",
       "<table border=\"1\" class=\"dataframe\">\n",
       "  <thead>\n",
       "    <tr style=\"text-align: right;\">\n",
       "      <th></th>\n",
       "      <th>Logistical Regression</th>\n",
       "      <th>K-Nearest Neighbors</th>\n",
       "      <th>Decision Tree</th>\n",
       "      <th>sampling</th>\n",
       "    </tr>\n",
       "  </thead>\n",
       "  <tbody>\n",
       "    <tr>\n",
       "      <th>0</th>\n",
       "      <td>0.718081</td>\n",
       "      <td>0.723613</td>\n",
       "      <td>0.750306</td>\n",
       "      <td>Upsampling (SMOTE)</td>\n",
       "    </tr>\n",
       "    <tr>\n",
       "      <th>1</th>\n",
       "      <td>0.719044</td>\n",
       "      <td>0.721810</td>\n",
       "      <td>0.866675</td>\n",
       "      <td>Upsampling (Pandas Sample)</td>\n",
       "    </tr>\n",
       "    <tr>\n",
       "      <th>2</th>\n",
       "      <td>0.791514</td>\n",
       "      <td>0.781099</td>\n",
       "      <td>0.751591</td>\n",
       "      <td>Downsampling (TomekLinks)</td>\n",
       "    </tr>\n",
       "    <tr>\n",
       "      <th>3</th>\n",
       "      <td>0.722034</td>\n",
       "      <td>0.685424</td>\n",
       "      <td>0.658644</td>\n",
       "      <td>Downsampling (Pandas Sample)</td>\n",
       "    </tr>\n",
       "    <tr>\n",
       "      <th>4</th>\n",
       "      <td>0.793403</td>\n",
       "      <td>0.789498</td>\n",
       "      <td>0.791444</td>\n",
       "      <td>None</td>\n",
       "    </tr>\n",
       "  </tbody>\n",
       "</table>\n",
       "</div>"
      ],
      "text/plain": [
       "   Logistical Regression  K-Nearest Neighbors  Decision Tree  \\\n",
       "0               0.718081             0.723613       0.750306   \n",
       "1               0.719044             0.721810       0.866675   \n",
       "2               0.791514             0.781099       0.751591   \n",
       "3               0.722034             0.685424       0.658644   \n",
       "4               0.793403             0.789498       0.791444   \n",
       "\n",
       "                       sampling  \n",
       "0            Upsampling (SMOTE)  \n",
       "1    Upsampling (Pandas Sample)  \n",
       "2     Downsampling (TomekLinks)  \n",
       "3  Downsampling (Pandas Sample)  \n",
       "4                          None  "
      ]
     },
     "execution_count": 83,
     "metadata": {},
     "output_type": "execute_result"
    }
   ],
   "source": [
    "method_scores = pd.concat([scores_sm_df, scores_up_df, scores_tl_df, scores_down_df, compare_models], axis=0)\n",
    "method_scores.reset_index(drop = True)"
   ]
  }
 ],
 "metadata": {
  "kernelspec": {
   "display_name": "Python 3 (ipykernel)",
   "language": "python",
   "name": "python3"
  },
  "language_info": {
   "codemirror_mode": {
    "name": "ipython",
    "version": 3
   },
   "file_extension": ".py",
   "mimetype": "text/x-python",
   "name": "python",
   "nbconvert_exporter": "python",
   "pygments_lexer": "ipython3",
   "version": "3.9.12"
  },
  "toc": {
   "base_numbering": 1,
   "nav_menu": {},
   "number_sections": true,
   "sideBar": true,
   "skip_h1_title": false,
   "title_cell": "Table of Contents",
   "title_sidebar": "Contents",
   "toc_cell": false,
   "toc_position": {},
   "toc_section_display": true,
   "toc_window_display": false
  }
 },
 "nbformat": 4,
 "nbformat_minor": 5
}
