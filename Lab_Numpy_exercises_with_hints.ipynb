{
 "cells": [
  {
   "cell_type": "markdown",
   "id": "61b18cab",
   "metadata": {},
   "source": [
    "#### 1. Import the numpy package under the name `np` (★☆☆)"
   ]
  },
  {
   "cell_type": "code",
   "execution_count": 8,
   "id": "82a960a3",
   "metadata": {},
   "outputs": [],
   "source": [
    "import numpy as np"
   ]
  },
  {
   "cell_type": "markdown",
   "id": "3bc87c63",
   "metadata": {},
   "source": [
    "#### 2. Create a null vector of size 10 (★☆☆)"
   ]
  },
  {
   "cell_type": "code",
   "execution_count": 9,
   "id": "90d8e6fc",
   "metadata": {},
   "outputs": [
    {
     "data": {
      "text/plain": [
       "array([0., 0., 0., 0., 0., 0., 0., 0., 0., 0.])"
      ]
     },
     "execution_count": 9,
     "metadata": {},
     "output_type": "execute_result"
    }
   ],
   "source": [
    "m = np.zeros(10)\n",
    "m"
   ]
  },
  {
   "cell_type": "markdown",
   "id": "e4204432",
   "metadata": {},
   "source": [
    "#### 3. Create a null vector of size 10 but the fifth value which is 1 (★☆☆)"
   ]
  },
  {
   "cell_type": "code",
   "execution_count": 10,
   "id": "3510871e",
   "metadata": {},
   "outputs": [
    {
     "data": {
      "text/plain": [
       "array([0., 0., 0., 0., 1., 0., 0., 0., 0., 0.])"
      ]
     },
     "execution_count": 10,
     "metadata": {},
     "output_type": "execute_result"
    }
   ],
   "source": [
    "m[4] = 1\n",
    "m"
   ]
  },
  {
   "cell_type": "markdown",
   "id": "8516454a",
   "metadata": {},
   "source": [
    "#### 4. Create a vector with values ranging from 10 to 49 (★☆☆)"
   ]
  },
  {
   "cell_type": "code",
   "execution_count": 11,
   "id": "ef54cdca",
   "metadata": {},
   "outputs": [
    {
     "data": {
      "text/plain": [
       "array([10, 11, 12, 13, 14, 15, 16, 17, 18, 19, 20, 21, 22, 23, 24, 25, 26,\n",
       "       27, 28, 29, 30, 31, 32, 33, 34, 35, 36, 37, 38, 39, 40, 41, 42, 43,\n",
       "       44, 45, 46, 47, 48, 49])"
      ]
     },
     "execution_count": 11,
     "metadata": {},
     "output_type": "execute_result"
    }
   ],
   "source": [
    "np.arange(10, 50)"
   ]
  },
  {
   "cell_type": "markdown",
   "id": "00f646e8",
   "metadata": {},
   "source": [
    "#### 5. Create a 3x3 matrix with values ranging from 0 to 8 (★☆☆)"
   ]
  },
  {
   "cell_type": "code",
   "execution_count": 12,
   "id": "94c5ac8e",
   "metadata": {},
   "outputs": [
    {
     "data": {
      "text/plain": [
       "array([[0, 1, 2],\n",
       "       [3, 4, 5],\n",
       "       [6, 7, 8]])"
      ]
     },
     "execution_count": 12,
     "metadata": {},
     "output_type": "execute_result"
    }
   ],
   "source": [
    "np.arange(0, 9).reshape((3, 3))"
   ]
  },
  {
   "cell_type": "markdown",
   "id": "c230cd7d",
   "metadata": {},
   "source": [
    "#### 6. Find indices of non-zero elements from [1,2,0,0,4,0] (★☆☆)"
   ]
  },
  {
   "cell_type": "code",
   "execution_count": 13,
   "id": "1e069eaf",
   "metadata": {},
   "outputs": [
    {
     "data": {
      "text/plain": [
       "(array([0, 1, 4]),)"
      ]
     },
     "execution_count": 13,
     "metadata": {},
     "output_type": "execute_result"
    }
   ],
   "source": [
    "np.nonzero([1,2,0,0,4,0])"
   ]
  },
  {
   "cell_type": "markdown",
   "id": "c0d756b7",
   "metadata": {},
   "source": [
    "#### 7. Create a 3x3 identity matrix (★☆☆)"
   ]
  },
  {
   "cell_type": "code",
   "execution_count": 14,
   "id": "29d93ec3",
   "metadata": {},
   "outputs": [
    {
     "data": {
      "text/plain": [
       "array([[1., 0., 0.],\n",
       "       [0., 1., 0.],\n",
       "       [0., 0., 1.]])"
      ]
     },
     "execution_count": 14,
     "metadata": {},
     "output_type": "execute_result"
    }
   ],
   "source": [
    "np.eye(3, 3)"
   ]
  },
  {
   "cell_type": "markdown",
   "id": "7fda9fb7",
   "metadata": {},
   "source": [
    "#### 8. Create a 3x3x3 array with random values (★☆☆)"
   ]
  },
  {
   "cell_type": "code",
   "execution_count": 15,
   "id": "bb052144",
   "metadata": {},
   "outputs": [
    {
     "data": {
      "text/plain": [
       "array([[1.33321323e-01, 3.52963184e-01, 6.58699235e-01],\n",
       "       [4.87650942e-01, 1.82204330e-01, 9.02832718e-04],\n",
       "       [9.41483302e-01, 2.04773737e-01, 9.39474785e-01]])"
      ]
     },
     "execution_count": 15,
     "metadata": {},
     "output_type": "execute_result"
    }
   ],
   "source": [
    "np.random.random((3,3))"
   ]
  },
  {
   "cell_type": "markdown",
   "id": "5a125a74",
   "metadata": {},
   "source": [
    "#### 9. Create a 10x10 array with random values and find the minimum and maximum values (★☆☆)"
   ]
  },
  {
   "cell_type": "code",
   "execution_count": 16,
   "id": "fc0a5db1",
   "metadata": {},
   "outputs": [
    {
     "name": "stdout",
     "output_type": "stream",
     "text": [
      "0.008287391919775788\n",
      "0.9991733529815291\n"
     ]
    }
   ],
   "source": [
    "a_9 = np.random.random((10,10))\n",
    "print(np.min(a_9))\n",
    "print(np.max(a_9))"
   ]
  },
  {
   "cell_type": "markdown",
   "id": "60a0bbb5",
   "metadata": {},
   "source": [
    "#### 10. Create a random vector of size 30 and find the mean value (★☆☆)"
   ]
  },
  {
   "cell_type": "code",
   "execution_count": 17,
   "id": "ba61d36e",
   "metadata": {},
   "outputs": [
    {
     "data": {
      "text/plain": [
       "0.4722425274757079"
      ]
     },
     "execution_count": 17,
     "metadata": {},
     "output_type": "execute_result"
    }
   ],
   "source": [
    "np.mean(np.random.random(30))"
   ]
  },
  {
   "cell_type": "markdown",
   "id": "9f5f685d",
   "metadata": {},
   "source": [
    "#### 11. Create a 5x5 matrix with values 1,2,3,4 just below the diagonal (★☆☆)"
   ]
  },
  {
   "cell_type": "code",
   "execution_count": 18,
   "id": "40f57dc0",
   "metadata": {},
   "outputs": [
    {
     "name": "stdout",
     "output_type": "stream",
     "text": [
      "[[0 0 0 0 0]\n",
      " [1 0 0 0 0]\n",
      " [0 2 0 0 0]\n",
      " [0 0 3 0 0]\n",
      " [0 0 0 4 0]]\n"
     ]
    }
   ],
   "source": [
    "b = np.diag(1+ np.arange(4),k=-1)\n",
    "print(b)"
   ]
  },
  {
   "cell_type": "markdown",
   "id": "a8dfb498",
   "metadata": {},
   "source": [
    "#### 12. Normalize a 5x5 random matrix (★☆☆)"
   ]
  },
  {
   "cell_type": "code",
   "execution_count": 19,
   "id": "756df160",
   "metadata": {},
   "outputs": [
    {
     "data": {
      "text/plain": [
       "array([[ 0.45762325, -0.32358053,  0.03003083, -0.30575314,  0.59511528],\n",
       "       [ 0.15860134, -1.07866617, -1.05347695,  1.712753  , -0.42716893],\n",
       "       [-0.32074612, -0.1686491 ,  0.22599552,  1.36751058, -0.04692081],\n",
       "       [-0.944924  ,  1.62337297, -0.59988757, -1.71360826, -1.26563342],\n",
       "       [ 1.76227274,  1.18464839, -0.91582295, -1.19985093,  1.24676498]])"
      ]
     },
     "execution_count": 19,
     "metadata": {},
     "output_type": "execute_result"
    }
   ],
   "source": [
    "a_12 = np.random.random((5,5))\n",
    "a_12_norm = (a_12 - np.mean(a_12)) / np.std(a_12)\n",
    "a_12_norm"
   ]
  },
  {
   "cell_type": "markdown",
   "id": "a1634dc3",
   "metadata": {},
   "source": [
    "#### 13. How to find common values between two arrays? (★☆☆)"
   ]
  },
  {
   "cell_type": "code",
   "execution_count": 22,
   "id": "7a559774",
   "metadata": {},
   "outputs": [
    {
     "data": {
      "text/plain": [
       "array([11, 12, 13, 14, 15])"
      ]
     },
     "execution_count": 22,
     "metadata": {},
     "output_type": "execute_result"
    }
   ],
   "source": [
    "a_13_a = np.arange(10, 16)\n",
    "a_13_b = np.arange(11, 17)\n",
    "a_13 = np.intersect1d(a_13_a, a_13_b)\n",
    "a_13"
   ]
  },
  {
   "cell_type": "markdown",
   "id": "f217206e",
   "metadata": {},
   "source": [
    "#### 14. Create a random vector of size 10 and sort it (★★☆)"
   ]
  },
  {
   "cell_type": "code",
   "execution_count": 25,
   "id": "5f4c5b6a",
   "metadata": {},
   "outputs": [
    {
     "data": {
      "text/plain": [
       "array([0.07889058, 0.19095734, 0.19610931, 0.31935676, 0.42002962,\n",
       "       0.62388972, 0.62604321, 0.7316434 , 0.73164764, 0.85655787])"
      ]
     },
     "execution_count": 25,
     "metadata": {},
     "output_type": "execute_result"
    }
   ],
   "source": [
    "a_14 = np.random.random(10)\n",
    "a_14_sorted = np.sort(a_14)\n",
    "a_14_sorted"
   ]
  },
  {
   "cell_type": "markdown",
   "id": "cb8cfbe8",
   "metadata": {},
   "source": [
    "#### 15. Create random vector of size 10 and replace the maximum value by 0 (★★☆)"
   ]
  },
  {
   "cell_type": "code",
   "execution_count": 33,
   "id": "bfa30e84",
   "metadata": {},
   "outputs": [
    {
     "name": "stdout",
     "output_type": "stream",
     "text": [
      "[0.21348816 0.77714874 0.03163452 0.95928965 0.68220665 0.66018199\n",
      " 0.00690156 0.48918447 0.13262457 0.56073276]\n",
      "[0.21348816344918908, 0.7771487399424815, 0.031634517620975244, 0, 0.6822066526270726, 0.6601819940561529, 0.006901558447439116, 0.48918446694187456, 0.13262457456115773, 0.5607327554660682]\n"
     ]
    }
   ],
   "source": [
    "a_15 = np.random.random(10)\n",
    "a_15_mod = [0 if i == ny.max(a_15) else i for i in a_15]\n",
    "print(a_15)\n",
    "print(a_15_mod)"
   ]
  },
  {
   "cell_type": "markdown",
   "id": "41387a7c",
   "metadata": {},
   "source": [
    "#### 16. Subtract the mean of each row of a matrix (★★☆)"
   ]
  },
  {
   "cell_type": "code",
   "execution_count": 41,
   "id": "b9344b3e",
   "metadata": {},
   "outputs": [
    {
     "data": {
      "text/plain": [
       "array([[-0.03160561,  0.03145772, -0.13587179,  0.3972873 , -0.26126763],\n",
       "       [-0.16079554, -0.02968359, -0.05334714, -0.1111954 ,  0.35502167],\n",
       "       [-0.31997266, -0.01626011, -0.00069341,  0.03585873,  0.30106745],\n",
       "       [ 0.06405712,  0.23427658,  0.00933722, -0.06338404, -0.24428688],\n",
       "       [ 0.31659488, -0.33398322,  0.03849462,  0.16448795, -0.18559424]])"
      ]
     },
     "execution_count": 41,
     "metadata": {},
     "output_type": "execute_result"
    }
   ],
   "source": [
    "a_16 = np.random.random((5,5))\n",
    "a_16_mean = np.tile(np.mean(a_16, axis = 1, keepdims = True), np.shape(a_16)[1])\n",
    "a_16_result = a_16 - a_16_mean\n",
    "a_16_result"
   ]
  },
  {
   "cell_type": "code",
   "execution_count": 44,
   "id": "e8a49704",
   "metadata": {},
   "outputs": [
    {
     "data": {
      "text/plain": [
       "array([[-0.03160561,  0.03145772, -0.13587179,  0.3972873 , -0.26126763],\n",
       "       [-0.16079554, -0.02968359, -0.05334714, -0.1111954 ,  0.35502167],\n",
       "       [-0.31997266, -0.01626011, -0.00069341,  0.03585873,  0.30106745],\n",
       "       [ 0.06405712,  0.23427658,  0.00933722, -0.06338404, -0.24428688],\n",
       "       [ 0.31659488, -0.33398322,  0.03849462,  0.16448795, -0.18559424]])"
      ]
     },
     "execution_count": 44,
     "metadata": {},
     "output_type": "execute_result"
    }
   ],
   "source": [
    "# Alternative\n",
    "a_16 = np.random.random((5,5))\n",
    "a_16_result = a_16 - np.mean(a_16, axis = 1, keepdims = True)\n",
    "a_16_result"
   ]
  },
  {
   "cell_type": "markdown",
   "id": "2e213297",
   "metadata": {},
   "source": [
    "#### 17. How to get the n-largest values of an array (★★★)"
   ]
  },
  {
   "cell_type": "code",
   "execution_count": 51,
   "id": "ca970f37",
   "metadata": {},
   "outputs": [
    {
     "data": {
      "text/plain": [
       "array([3974, 3396,  650, ..., 5132, 6964, 8302])"
      ]
     },
     "execution_count": 51,
     "metadata": {},
     "output_type": "execute_result"
    }
   ],
   "source": [
    "Z = np.arange(10000)\n",
    "np.random.shuffle(Z)\n",
    "n = 5\n",
    "np.argsort(Z)\n"
   ]
  },
  {
   "cell_type": "code",
   "execution_count": 52,
   "id": "dac795a9",
   "metadata": {},
   "outputs": [
    {
     "data": {
      "text/plain": [
       "array([4492,  946, 4383, ..., 6943, 2280, 8853])"
      ]
     },
     "execution_count": 52,
     "metadata": {},
     "output_type": "execute_result"
    }
   ],
   "source": [
    "Z"
   ]
  },
  {
   "cell_type": "markdown",
   "id": "f1fe6ef7",
   "metadata": {},
   "source": [
    "#### 18. Create a random 5*3 matrix and replace items that are larger than 4 by their squares ( Example:  6 --> 36) "
   ]
  }
 ],
 "metadata": {
  "kernelspec": {
   "display_name": "Python 3 (ipykernel)",
   "language": "python",
   "name": "python3"
  },
  "language_info": {
   "codemirror_mode": {
    "name": "ipython",
    "version": 3
   },
   "file_extension": ".py",
   "mimetype": "text/x-python",
   "name": "python",
   "nbconvert_exporter": "python",
   "pygments_lexer": "ipython3",
   "version": "3.9.12"
  }
 },
 "nbformat": 4,
 "nbformat_minor": 5
}
