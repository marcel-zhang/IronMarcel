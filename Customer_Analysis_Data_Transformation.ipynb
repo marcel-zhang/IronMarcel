{
 "cells": [
  {
   "cell_type": "markdown",
   "metadata": {
    "id": "TAS5MqM9xy-N",
    "slideshow": {
     "slide_type": "slide"
    }
   },
   "source": [
    "# Customer Analysis Case Study"
   ]
  },
  {
   "cell_type": "code",
   "execution_count": 1,
   "metadata": {
    "executionInfo": {
     "elapsed": 357,
     "status": "ok",
     "timestamp": 1623063461098,
     "user": {
      "displayName": "Ignacio Soteras",
      "photoUrl": "",
      "userId": "02050793736257155229"
     },
     "user_tz": -120
    },
    "id": "DVtwE6bRxy-V"
   },
   "outputs": [],
   "source": [
    "import numpy as np\n",
    "import pandas as pd\n",
    "import matplotlib.pyplot as plt\n",
    "%matplotlib inline\n",
    "import seaborn as sns\n",
    "import statsmodels.api as sm\n",
    "from scipy.stats import boxcox\n",
    "pd.options.display.max_rows = 100\n",
    "## Install xlrd package to load Excel files\n",
    "#!conda install openpyxl\n",
    "#!conda install xlrd"
   ]
  },
  {
   "cell_type": "markdown",
   "metadata": {
    "slideshow": {
     "slide_type": "slide"
    }
   },
   "source": [
    "## Activity 3 - Wednesday 2023-01-18"
   ]
  },
  {
   "cell_type": "markdown",
   "metadata": {
    "slideshow": {
     "slide_type": "slide"
    }
   },
   "source": [
    "### 1. Loading Data"
   ]
  },
  {
   "cell_type": "code",
   "execution_count": 2,
   "metadata": {
    "scrolled": false,
    "slideshow": {
     "slide_type": "slide"
    }
   },
   "outputs": [
    {
     "data": {
      "text/html": [
       "<div>\n",
       "<style scoped>\n",
       "    .dataframe tbody tr th:only-of-type {\n",
       "        vertical-align: middle;\n",
       "    }\n",
       "\n",
       "    .dataframe tbody tr th {\n",
       "        vertical-align: top;\n",
       "    }\n",
       "\n",
       "    .dataframe thead th {\n",
       "        text-align: right;\n",
       "    }\n",
       "</style>\n",
       "<table border=\"1\" class=\"dataframe\">\n",
       "  <thead>\n",
       "    <tr style=\"text-align: right;\">\n",
       "      <th></th>\n",
       "      <th>region</th>\n",
       "      <th>customer_lifetime_value</th>\n",
       "      <th>response</th>\n",
       "      <th>coverage</th>\n",
       "      <th>education</th>\n",
       "      <th>effective_to_date</th>\n",
       "      <th>month</th>\n",
       "      <th>employment_status</th>\n",
       "      <th>gender</th>\n",
       "      <th>income</th>\n",
       "      <th>...</th>\n",
       "      <th>months_since_policy_inception</th>\n",
       "      <th>number_of_open_complaints</th>\n",
       "      <th>number_of_policies</th>\n",
       "      <th>policy_type</th>\n",
       "      <th>policy</th>\n",
       "      <th>renew_offer_type</th>\n",
       "      <th>sales_channel</th>\n",
       "      <th>total_claim_amount</th>\n",
       "      <th>vehicle_class</th>\n",
       "      <th>vehicle_size</th>\n",
       "    </tr>\n",
       "  </thead>\n",
       "  <tbody>\n",
       "    <tr>\n",
       "      <th>0</th>\n",
       "      <td>central</td>\n",
       "      <td>4809</td>\n",
       "      <td>no</td>\n",
       "      <td>basic</td>\n",
       "      <td>college</td>\n",
       "      <td>2/18/11</td>\n",
       "      <td>feb</td>\n",
       "      <td>employed</td>\n",
       "      <td>m</td>\n",
       "      <td>48029</td>\n",
       "      <td>...</td>\n",
       "      <td>52</td>\n",
       "      <td>0</td>\n",
       "      <td>9</td>\n",
       "      <td>corporate auto</td>\n",
       "      <td>corporate l3</td>\n",
       "      <td>offer3</td>\n",
       "      <td>agent</td>\n",
       "      <td>292</td>\n",
       "      <td>four-door car</td>\n",
       "      <td>medsize</td>\n",
       "    </tr>\n",
       "    <tr>\n",
       "      <th>1</th>\n",
       "      <td>west region</td>\n",
       "      <td>2228</td>\n",
       "      <td>no</td>\n",
       "      <td>basic</td>\n",
       "      <td>college</td>\n",
       "      <td>1/18/11</td>\n",
       "      <td>jan</td>\n",
       "      <td>unemployed</td>\n",
       "      <td>f</td>\n",
       "      <td>92260</td>\n",
       "      <td>...</td>\n",
       "      <td>26</td>\n",
       "      <td>0</td>\n",
       "      <td>1</td>\n",
       "      <td>personal auto</td>\n",
       "      <td>personal l3</td>\n",
       "      <td>offer4</td>\n",
       "      <td>call center</td>\n",
       "      <td>744</td>\n",
       "      <td>four-door car</td>\n",
       "      <td>medsize</td>\n",
       "    </tr>\n",
       "    <tr>\n",
       "      <th>2</th>\n",
       "      <td>east</td>\n",
       "      <td>14947</td>\n",
       "      <td>no</td>\n",
       "      <td>basic</td>\n",
       "      <td>bachelor</td>\n",
       "      <td>2/10/11</td>\n",
       "      <td>feb</td>\n",
       "      <td>employed</td>\n",
       "      <td>m</td>\n",
       "      <td>22139</td>\n",
       "      <td>...</td>\n",
       "      <td>31</td>\n",
       "      <td>0</td>\n",
       "      <td>2</td>\n",
       "      <td>personal auto</td>\n",
       "      <td>personal l3</td>\n",
       "      <td>offer3</td>\n",
       "      <td>call center</td>\n",
       "      <td>480</td>\n",
       "      <td>suv</td>\n",
       "      <td>medsize</td>\n",
       "    </tr>\n",
       "    <tr>\n",
       "      <th>3</th>\n",
       "      <td>north west</td>\n",
       "      <td>22332</td>\n",
       "      <td>yes</td>\n",
       "      <td>extended</td>\n",
       "      <td>college</td>\n",
       "      <td>1/11/11</td>\n",
       "      <td>jan</td>\n",
       "      <td>employed</td>\n",
       "      <td>m</td>\n",
       "      <td>49078</td>\n",
       "      <td>...</td>\n",
       "      <td>3</td>\n",
       "      <td>0</td>\n",
       "      <td>2</td>\n",
       "      <td>corporate auto</td>\n",
       "      <td>corporate l3</td>\n",
       "      <td>offer2</td>\n",
       "      <td>branch</td>\n",
       "      <td>484</td>\n",
       "      <td>four-door car</td>\n",
       "      <td>medsize</td>\n",
       "    </tr>\n",
       "    <tr>\n",
       "      <th>4</th>\n",
       "      <td>north west</td>\n",
       "      <td>9025</td>\n",
       "      <td>no</td>\n",
       "      <td>premium</td>\n",
       "      <td>bachelor</td>\n",
       "      <td>1/17/11</td>\n",
       "      <td>jan</td>\n",
       "      <td>medical leave</td>\n",
       "      <td>f</td>\n",
       "      <td>23675</td>\n",
       "      <td>...</td>\n",
       "      <td>31</td>\n",
       "      <td>0</td>\n",
       "      <td>7</td>\n",
       "      <td>personal auto</td>\n",
       "      <td>personal l2</td>\n",
       "      <td>offer1</td>\n",
       "      <td>branch</td>\n",
       "      <td>707</td>\n",
       "      <td>four-door car</td>\n",
       "      <td>medsize</td>\n",
       "    </tr>\n",
       "    <tr>\n",
       "      <th>...</th>\n",
       "      <td>...</td>\n",
       "      <td>...</td>\n",
       "      <td>...</td>\n",
       "      <td>...</td>\n",
       "      <td>...</td>\n",
       "      <td>...</td>\n",
       "      <td>...</td>\n",
       "      <td>...</td>\n",
       "      <td>...</td>\n",
       "      <td>...</td>\n",
       "      <td>...</td>\n",
       "      <td>...</td>\n",
       "      <td>...</td>\n",
       "      <td>...</td>\n",
       "      <td>...</td>\n",
       "      <td>...</td>\n",
       "      <td>...</td>\n",
       "      <td>...</td>\n",
       "      <td>...</td>\n",
       "      <td>...</td>\n",
       "      <td>...</td>\n",
       "    </tr>\n",
       "    <tr>\n",
       "      <th>10684</th>\n",
       "      <td>central</td>\n",
       "      <td>15563</td>\n",
       "      <td>no</td>\n",
       "      <td>premium</td>\n",
       "      <td>bachelor</td>\n",
       "      <td>1/19/11</td>\n",
       "      <td>jan</td>\n",
       "      <td>unemployed</td>\n",
       "      <td>f</td>\n",
       "      <td>61541</td>\n",
       "      <td>...</td>\n",
       "      <td>40</td>\n",
       "      <td>0</td>\n",
       "      <td>7</td>\n",
       "      <td>personal auto</td>\n",
       "      <td>personal l1</td>\n",
       "      <td>offer3</td>\n",
       "      <td>web</td>\n",
       "      <td>1214</td>\n",
       "      <td>luxury car</td>\n",
       "      <td>medsize</td>\n",
       "    </tr>\n",
       "    <tr>\n",
       "      <th>10685</th>\n",
       "      <td>north west</td>\n",
       "      <td>5259</td>\n",
       "      <td>no</td>\n",
       "      <td>basic</td>\n",
       "      <td>college</td>\n",
       "      <td>1/6/11</td>\n",
       "      <td>jan</td>\n",
       "      <td>employed</td>\n",
       "      <td>f</td>\n",
       "      <td>61146</td>\n",
       "      <td>...</td>\n",
       "      <td>68</td>\n",
       "      <td>0</td>\n",
       "      <td>6</td>\n",
       "      <td>personal auto</td>\n",
       "      <td>personal l3</td>\n",
       "      <td>offer2</td>\n",
       "      <td>branch</td>\n",
       "      <td>273</td>\n",
       "      <td>four-door car</td>\n",
       "      <td>medsize</td>\n",
       "    </tr>\n",
       "    <tr>\n",
       "      <th>10686</th>\n",
       "      <td>central</td>\n",
       "      <td>23893</td>\n",
       "      <td>no</td>\n",
       "      <td>extended</td>\n",
       "      <td>bachelor</td>\n",
       "      <td>2/6/11</td>\n",
       "      <td>feb</td>\n",
       "      <td>employed</td>\n",
       "      <td>f</td>\n",
       "      <td>39837</td>\n",
       "      <td>...</td>\n",
       "      <td>63</td>\n",
       "      <td>0</td>\n",
       "      <td>2</td>\n",
       "      <td>corporate auto</td>\n",
       "      <td>corporate l3</td>\n",
       "      <td>offer1</td>\n",
       "      <td>web</td>\n",
       "      <td>381</td>\n",
       "      <td>luxury suv</td>\n",
       "      <td>medsize</td>\n",
       "    </tr>\n",
       "    <tr>\n",
       "      <th>10687</th>\n",
       "      <td>west region</td>\n",
       "      <td>11971</td>\n",
       "      <td>no</td>\n",
       "      <td>premium</td>\n",
       "      <td>college</td>\n",
       "      <td>2/13/11</td>\n",
       "      <td>feb</td>\n",
       "      <td>employed</td>\n",
       "      <td>f</td>\n",
       "      <td>64195</td>\n",
       "      <td>...</td>\n",
       "      <td>27</td>\n",
       "      <td>4</td>\n",
       "      <td>6</td>\n",
       "      <td>personal auto</td>\n",
       "      <td>personal l1</td>\n",
       "      <td>offer1</td>\n",
       "      <td>branch</td>\n",
       "      <td>618</td>\n",
       "      <td>suv</td>\n",
       "      <td>medsize</td>\n",
       "    </tr>\n",
       "    <tr>\n",
       "      <th>10688</th>\n",
       "      <td>central</td>\n",
       "      <td>6857</td>\n",
       "      <td>no</td>\n",
       "      <td>basic</td>\n",
       "      <td>bachelor</td>\n",
       "      <td>1/8/11</td>\n",
       "      <td>jan</td>\n",
       "      <td>unemployed</td>\n",
       "      <td>m</td>\n",
       "      <td>68942</td>\n",
       "      <td>...</td>\n",
       "      <td>1</td>\n",
       "      <td>0</td>\n",
       "      <td>3</td>\n",
       "      <td>personal auto</td>\n",
       "      <td>personal l1</td>\n",
       "      <td>offer4</td>\n",
       "      <td>web</td>\n",
       "      <td>1021</td>\n",
       "      <td>suv</td>\n",
       "      <td>medsize</td>\n",
       "    </tr>\n",
       "  </tbody>\n",
       "</table>\n",
       "<p>10689 rows × 24 columns</p>\n",
       "</div>"
      ],
      "text/plain": [
       "            region  customer_lifetime_value response  coverage education  \\\n",
       "0          central                     4809       no     basic   college   \n",
       "1      west region                     2228       no     basic   college   \n",
       "2             east                    14947       no     basic  bachelor   \n",
       "3       north west                    22332      yes  extended   college   \n",
       "4       north west                     9025       no   premium  bachelor   \n",
       "...            ...                      ...      ...       ...       ...   \n",
       "10684      central                    15563       no   premium  bachelor   \n",
       "10685   north west                     5259       no     basic   college   \n",
       "10686      central                    23893       no  extended  bachelor   \n",
       "10687  west region                    11971       no   premium   college   \n",
       "10688      central                     6857       no     basic  bachelor   \n",
       "\n",
       "      effective_to_date month employment_status gender  income  ...  \\\n",
       "0               2/18/11   feb          employed      m   48029  ...   \n",
       "1               1/18/11   jan        unemployed      f   92260  ...   \n",
       "2               2/10/11   feb          employed      m   22139  ...   \n",
       "3               1/11/11   jan          employed      m   49078  ...   \n",
       "4               1/17/11   jan     medical leave      f   23675  ...   \n",
       "...                 ...   ...               ...    ...     ...  ...   \n",
       "10684           1/19/11   jan        unemployed      f   61541  ...   \n",
       "10685            1/6/11   jan          employed      f   61146  ...   \n",
       "10686            2/6/11   feb          employed      f   39837  ...   \n",
       "10687           2/13/11   feb          employed      f   64195  ...   \n",
       "10688            1/8/11   jan        unemployed      m   68942  ...   \n",
       "\n",
       "      months_since_policy_inception number_of_open_complaints  \\\n",
       "0                                52                         0   \n",
       "1                                26                         0   \n",
       "2                                31                         0   \n",
       "3                                 3                         0   \n",
       "4                                31                         0   \n",
       "...                             ...                       ...   \n",
       "10684                            40                         0   \n",
       "10685                            68                         0   \n",
       "10686                            63                         0   \n",
       "10687                            27                         4   \n",
       "10688                             1                         0   \n",
       "\n",
       "       number_of_policies     policy_type        policy  renew_offer_type  \\\n",
       "0                       9  corporate auto  corporate l3            offer3   \n",
       "1                       1   personal auto   personal l3            offer4   \n",
       "2                       2   personal auto   personal l3            offer3   \n",
       "3                       2  corporate auto  corporate l3            offer2   \n",
       "4                       7   personal auto   personal l2            offer1   \n",
       "...                   ...             ...           ...               ...   \n",
       "10684                   7   personal auto   personal l1            offer3   \n",
       "10685                   6   personal auto   personal l3            offer2   \n",
       "10686                   2  corporate auto  corporate l3            offer1   \n",
       "10687                   6   personal auto   personal l1            offer1   \n",
       "10688                   3   personal auto   personal l1            offer4   \n",
       "\n",
       "       sales_channel total_claim_amount  vehicle_class vehicle_size  \n",
       "0              agent                292  four-door car      medsize  \n",
       "1        call center                744  four-door car      medsize  \n",
       "2        call center                480            suv      medsize  \n",
       "3             branch                484  four-door car      medsize  \n",
       "4             branch                707  four-door car      medsize  \n",
       "...              ...                ...            ...          ...  \n",
       "10684            web               1214     luxury car      medsize  \n",
       "10685         branch                273  four-door car      medsize  \n",
       "10686            web                381     luxury suv      medsize  \n",
       "10687         branch                618            suv      medsize  \n",
       "10688            web               1021            suv      medsize  \n",
       "\n",
       "[10689 rows x 24 columns]"
      ]
     },
     "execution_count": 2,
     "metadata": {},
     "output_type": "execute_result"
    }
   ],
   "source": [
    "# Load datasets individually\n",
    "ma_df = pd.read_csv('Data/Data_Marketing_Customer_Analysis_Round3.csv')\n",
    "ma_df"
   ]
  },
  {
   "cell_type": "code",
   "execution_count": 3,
   "metadata": {
    "slideshow": {
     "slide_type": "slide"
    }
   },
   "outputs": [],
   "source": [
    "ma_df.drop(columns=['effective_to_date'], inplace=True)"
   ]
  },
  {
   "cell_type": "code",
   "execution_count": 4,
   "metadata": {
    "slideshow": {
     "slide_type": "slide"
    }
   },
   "outputs": [
    {
     "name": "stdout",
     "output_type": "stream",
     "text": [
      "<class 'pandas.core.frame.DataFrame'>\n",
      "RangeIndex: 10689 entries, 0 to 10688\n",
      "Data columns (total 23 columns):\n",
      " #   Column                         Non-Null Count  Dtype \n",
      "---  ------                         --------------  ----- \n",
      " 0   region                         10689 non-null  object\n",
      " 1   customer_lifetime_value        10689 non-null  int64 \n",
      " 2   response                       10689 non-null  object\n",
      " 3   coverage                       10689 non-null  object\n",
      " 4   education                      10689 non-null  object\n",
      " 5   month                          10689 non-null  object\n",
      " 6   employment_status              10689 non-null  object\n",
      " 7   gender                         10689 non-null  object\n",
      " 8   income                         10689 non-null  int64 \n",
      " 9   location_code                  10689 non-null  object\n",
      " 10  marital_status                 10689 non-null  object\n",
      " 11  monthly_premium_auto           10689 non-null  int64 \n",
      " 12  months_since_last_claim        10689 non-null  int64 \n",
      " 13  months_since_policy_inception  10689 non-null  int64 \n",
      " 14  number_of_open_complaints      10689 non-null  int64 \n",
      " 15  number_of_policies             10689 non-null  int64 \n",
      " 16  policy_type                    10689 non-null  object\n",
      " 17  policy                         10689 non-null  object\n",
      " 18  renew_offer_type               10689 non-null  object\n",
      " 19  sales_channel                  10689 non-null  object\n",
      " 20  total_claim_amount             10689 non-null  int64 \n",
      " 21  vehicle_class                  10689 non-null  object\n",
      " 22  vehicle_size                   10689 non-null  object\n",
      "dtypes: int64(8), object(15)\n",
      "memory usage: 1.9+ MB\n"
     ]
    }
   ],
   "source": [
    "ma_df.info()"
   ]
  },
  {
   "cell_type": "code",
   "execution_count": 5,
   "metadata": {},
   "outputs": [],
   "source": [
    "#In the column Vehicle Class, merge the two categories Luxury SUV and Luxury Car into one category named Luxury Vehicle\n",
    "def merge_luxury(df):\n",
    "    luxury = ['luxury suv', 'luxury car']\n",
    "    df['vehicle_class'] = df['vehicle_class'].map(lambda x: ('luxury vehicle' if x in luxury else x))\n",
    "    return df"
   ]
  },
  {
   "cell_type": "code",
   "execution_count": 6,
   "metadata": {},
   "outputs": [
    {
     "data": {
      "text/plain": [
       "array(['four-door car', 'suv', 'two-door car', 'sports car',\n",
       "       'luxury vehicle'], dtype=object)"
      ]
     },
     "execution_count": 6,
     "metadata": {},
     "output_type": "execute_result"
    }
   ],
   "source": [
    "ma_df = merge_luxury(ma_df)\n",
    "ma_df.vehicle_class.unique()"
   ]
  },
  {
   "cell_type": "markdown",
   "metadata": {},
   "source": [
    "### 2. Separating Data"
   ]
  },
  {
   "cell_type": "markdown",
   "metadata": {},
   "source": [
    "#### 2.1.Getting Numeric Data"
   ]
  },
  {
   "cell_type": "code",
   "execution_count": 7,
   "metadata": {
    "scrolled": false
   },
   "outputs": [],
   "source": [
    "# Define a function for identifying numerical columns\n",
    "def get_num_cols(df):\n",
    "    num_cols = df.select_dtypes(include = np.number).columns\n",
    "    return num_cols"
   ]
  },
  {
   "cell_type": "code",
   "execution_count": 8,
   "metadata": {
    "scrolled": true
   },
   "outputs": [
    {
     "name": "stdout",
     "output_type": "stream",
     "text": [
      "<class 'pandas.core.frame.DataFrame'>\n",
      "RangeIndex: 10689 entries, 0 to 10688\n",
      "Data columns (total 8 columns):\n",
      " #   Column                         Non-Null Count  Dtype\n",
      "---  ------                         --------------  -----\n",
      " 0   customer_lifetime_value        10689 non-null  int64\n",
      " 1   income                         10689 non-null  int64\n",
      " 2   monthly_premium_auto           10689 non-null  int64\n",
      " 3   months_since_last_claim        10689 non-null  int64\n",
      " 4   months_since_policy_inception  10689 non-null  int64\n",
      " 5   number_of_open_complaints      10689 non-null  int64\n",
      " 6   number_of_policies             10689 non-null  int64\n",
      " 7   total_claim_amount             10689 non-null  int64\n",
      "dtypes: int64(8)\n",
      "memory usage: 668.2 KB\n"
     ]
    }
   ],
   "source": [
    "numerical = ma_df[get_num_cols(ma_df)]\n",
    "numerical.info()"
   ]
  },
  {
   "cell_type": "code",
   "execution_count": 9,
   "metadata": {},
   "outputs": [
    {
     "data": {
      "text/plain": [
       "Index(['customer_lifetime_value', 'income', 'monthly_premium_auto',\n",
       "       'months_since_last_claim', 'months_since_policy_inception',\n",
       "       'number_of_open_complaints', 'number_of_policies',\n",
       "       'total_claim_amount'],\n",
       "      dtype='object')"
      ]
     },
     "execution_count": 9,
     "metadata": {},
     "output_type": "execute_result"
    }
   ],
   "source": [
    "numerical.columns"
   ]
  },
  {
   "cell_type": "markdown",
   "metadata": {},
   "source": [
    "#### 2.1.Getting Categorical Data"
   ]
  },
  {
   "cell_type": "code",
   "execution_count": 10,
   "metadata": {},
   "outputs": [],
   "source": [
    "# Define a function for identifying categorical columns\n",
    "def get_cat_cols(df):\n",
    "    cat_cols = df.select_dtypes(include = object).columns # \"exlude = np.number\" can also work\n",
    "    return cat_cols"
   ]
  },
  {
   "cell_type": "code",
   "execution_count": 11,
   "metadata": {},
   "outputs": [
    {
     "name": "stdout",
     "output_type": "stream",
     "text": [
      "<class 'pandas.core.frame.DataFrame'>\n",
      "RangeIndex: 10689 entries, 0 to 10688\n",
      "Data columns (total 15 columns):\n",
      " #   Column             Non-Null Count  Dtype \n",
      "---  ------             --------------  ----- \n",
      " 0   region             10689 non-null  object\n",
      " 1   response           10689 non-null  object\n",
      " 2   coverage           10689 non-null  object\n",
      " 3   education          10689 non-null  object\n",
      " 4   month              10689 non-null  object\n",
      " 5   employment_status  10689 non-null  object\n",
      " 6   gender             10689 non-null  object\n",
      " 7   location_code      10689 non-null  object\n",
      " 8   marital_status     10689 non-null  object\n",
      " 9   policy_type        10689 non-null  object\n",
      " 10  policy             10689 non-null  object\n",
      " 11  renew_offer_type   10689 non-null  object\n",
      " 12  sales_channel      10689 non-null  object\n",
      " 13  vehicle_class      10689 non-null  object\n",
      " 14  vehicle_size       10689 non-null  object\n",
      "dtypes: object(15)\n",
      "memory usage: 1.2+ MB\n"
     ]
    }
   ],
   "source": [
    "categorical = ma_df[get_cat_cols(ma_df)]\n",
    "categorical.info()"
   ]
  },
  {
   "cell_type": "code",
   "execution_count": 12,
   "metadata": {
    "scrolled": true
   },
   "outputs": [
    {
     "data": {
      "text/plain": [
       "Index(['region', 'response', 'coverage', 'education', 'month',\n",
       "       'employment_status', 'gender', 'location_code', 'marital_status',\n",
       "       'policy_type', 'policy', 'renew_offer_type', 'sales_channel',\n",
       "       'vehicle_class', 'vehicle_size'],\n",
       "      dtype='object')"
      ]
     },
     "execution_count": 12,
     "metadata": {},
     "output_type": "execute_result"
    }
   ],
   "source": [
    "get_cat_cols(ma_df)"
   ]
  },
  {
   "cell_type": "markdown",
   "metadata": {
    "id": "e1CinfMhxy-Z"
   },
   "source": [
    "### 3. Checking for Correlation"
   ]
  },
  {
   "cell_type": "code",
   "execution_count": 13,
   "metadata": {},
   "outputs": [],
   "source": [
    "# Get a the list of input features (excluding the target feature 'total_claim_amount')\n",
    "input_feat = numerical.columns.tolist()\n",
    "input_feat.remove('total_claim_amount')"
   ]
  },
  {
   "cell_type": "code",
   "execution_count": 14,
   "metadata": {},
   "outputs": [
    {
     "data": {
      "text/plain": [
       "['customer_lifetime_value',\n",
       " 'income',\n",
       " 'monthly_premium_auto',\n",
       " 'months_since_last_claim',\n",
       " 'months_since_policy_inception',\n",
       " 'number_of_open_complaints',\n",
       " 'number_of_policies']"
      ]
     },
     "execution_count": 14,
     "metadata": {},
     "output_type": "execute_result"
    }
   ],
   "source": [
    "input_feat"
   ]
  },
  {
   "cell_type": "code",
   "execution_count": 15,
   "metadata": {},
   "outputs": [
    {
     "name": "stdout",
     "output_type": "stream",
     "text": [
      "                               customer_lifetime_value    income  \\\n",
      "customer_lifetime_value                       1.000000  0.003732   \n",
      "income                                        0.003732  1.000000   \n",
      "monthly_premium_auto                          0.404235 -0.002431   \n",
      "months_since_last_claim                       0.011912 -0.026564   \n",
      "months_since_policy_inception                 0.017055  0.003846   \n",
      "number_of_open_complaints                    -0.032371  0.018903   \n",
      "number_of_policies                            0.016789 -0.004461   \n",
      "\n",
      "                               monthly_premium_auto  months_since_last_claim  \\\n",
      "customer_lifetime_value                    0.404235                 0.011912   \n",
      "income                                    -0.002431                -0.026564   \n",
      "monthly_premium_auto                       1.000000                 0.010036   \n",
      "months_since_last_claim                    0.010036                 1.000000   \n",
      "months_since_policy_inception              0.019696                -0.034086   \n",
      "number_of_open_complaints                 -0.008811                 0.001204   \n",
      "number_of_policies                        -0.018805                 0.000814   \n",
      "\n",
      "                               months_since_policy_inception  \\\n",
      "customer_lifetime_value                             0.017055   \n",
      "income                                              0.003846   \n",
      "monthly_premium_auto                                0.019696   \n",
      "months_since_last_claim                            -0.034086   \n",
      "months_since_policy_inception                       1.000000   \n",
      "number_of_open_complaints                           0.002554   \n",
      "number_of_policies                                 -0.009719   \n",
      "\n",
      "                               number_of_open_complaints  number_of_policies  \n",
      "customer_lifetime_value                        -0.032371            0.016789  \n",
      "income                                          0.018903           -0.004461  \n",
      "monthly_premium_auto                           -0.008811           -0.018805  \n",
      "months_since_last_claim                         0.001204            0.000814  \n",
      "months_since_policy_inception                   0.002554           -0.009719  \n",
      "number_of_open_complaints                       1.000000           -0.000303  \n",
      "number_of_policies                             -0.000303            1.000000  \n"
     ]
    }
   ],
   "source": [
    "# Print out a correlation matrix\n",
    "corr_matrix_input_feat = numerical[input_feat].corr()\n",
    "print(corr_matrix_input_feat)"
   ]
  },
  {
   "cell_type": "code",
   "execution_count": 16,
   "metadata": {},
   "outputs": [
    {
     "data": {
      "text/plain": [
       "<AxesSubplot:>"
      ]
     },
     "execution_count": 16,
     "metadata": {},
     "output_type": "execute_result"
    },
    {
     "data": {
      "image/png": "[encoded data removed]",
      "text/plain": [
       "<Figure size 576x360 with 2 Axes>"
      ]
     },
     "metadata": {
      "needs_background": "light"
     },
     "output_type": "display_data"
    }
   ],
   "source": [
    "# Create a heatmap\n",
    "fig3 = plt.figure(figsize=(8,5))\n",
    "sns.heatmap(corr_matrix_input_feat,annot=True, cmap='Blues') # Another choice of plette: cmap='coolwarm'"
   ]
  },
  {
   "cell_type": "markdown",
   "metadata": {},
   "source": [
    "##### There is no pair of features that have a correlation greater than 0.9, then no features need to be dropped."
   ]
  },
  {
   "cell_type": "markdown",
   "metadata": {},
   "source": [
    "### 3. Encoding Categorical Data"
   ]
  },
  {
   "cell_type": "code",
   "execution_count": 17,
   "metadata": {},
   "outputs": [
    {
     "name": "stdout",
     "output_type": "stream",
     "text": [
      "<class 'pandas.core.frame.DataFrame'>\n",
      "RangeIndex: 10689 entries, 0 to 10688\n",
      "Data columns (total 57 columns):\n",
      " #   Column                           Non-Null Count  Dtype\n",
      "---  ------                           --------------  -----\n",
      " 0   region_central                   10689 non-null  uint8\n",
      " 1   region_east                      10689 non-null  uint8\n",
      " 2   region_north west                10689 non-null  uint8\n",
      " 3   region_west region               10689 non-null  uint8\n",
      " 4   response_no                      10689 non-null  uint8\n",
      " 5   response_yes                     10689 non-null  uint8\n",
      " 6   coverage_basic                   10689 non-null  uint8\n",
      " 7   coverage_extended                10689 non-null  uint8\n",
      " 8   coverage_premium                 10689 non-null  uint8\n",
      " 9   education_bachelor               10689 non-null  uint8\n",
      " 10  education_college                10689 non-null  uint8\n",
      " 11  education_doctor                 10689 non-null  uint8\n",
      " 12  education_high school or below   10689 non-null  uint8\n",
      " 13  education_master                 10689 non-null  uint8\n",
      " 14  month_feb                        10689 non-null  uint8\n",
      " 15  month_jan                        10689 non-null  uint8\n",
      " 16  employment_status_disabled       10689 non-null  uint8\n",
      " 17  employment_status_employed       10689 non-null  uint8\n",
      " 18  employment_status_medical leave  10689 non-null  uint8\n",
      " 19  employment_status_retired        10689 non-null  uint8\n",
      " 20  employment_status_unemployed     10689 non-null  uint8\n",
      " 21  gender_f                         10689 non-null  uint8\n",
      " 22  gender_m                         10689 non-null  uint8\n",
      " 23  location_code_rural              10689 non-null  uint8\n",
      " 24  location_code_suburban           10689 non-null  uint8\n",
      " 25  location_code_urban              10689 non-null  uint8\n",
      " 26  marital_status_divorced          10689 non-null  uint8\n",
      " 27  marital_status_married           10689 non-null  uint8\n",
      " 28  marital_status_single            10689 non-null  uint8\n",
      " 29  policy_type_corporate auto       10689 non-null  uint8\n",
      " 30  policy_type_personal auto        10689 non-null  uint8\n",
      " 31  policy_type_special auto         10689 non-null  uint8\n",
      " 32  policy_corporate l1              10689 non-null  uint8\n",
      " 33  policy_corporate l2              10689 non-null  uint8\n",
      " 34  policy_corporate l3              10689 non-null  uint8\n",
      " 35  policy_personal l1               10689 non-null  uint8\n",
      " 36  policy_personal l2               10689 non-null  uint8\n",
      " 37  policy_personal l3               10689 non-null  uint8\n",
      " 38  policy_special l1                10689 non-null  uint8\n",
      " 39  policy_special l2                10689 non-null  uint8\n",
      " 40  policy_special l3                10689 non-null  uint8\n",
      " 41  renew_offer_type_offer1          10689 non-null  uint8\n",
      " 42  renew_offer_type_offer2          10689 non-null  uint8\n",
      " 43  renew_offer_type_offer3          10689 non-null  uint8\n",
      " 44  renew_offer_type_offer4          10689 non-null  uint8\n",
      " 45  sales_channel_agent              10689 non-null  uint8\n",
      " 46  sales_channel_branch             10689 non-null  uint8\n",
      " 47  sales_channel_call center        10689 non-null  uint8\n",
      " 48  sales_channel_web                10689 non-null  uint8\n",
      " 49  vehicle_class_four-door car      10689 non-null  uint8\n",
      " 50  vehicle_class_luxury vehicle     10689 non-null  uint8\n",
      " 51  vehicle_class_sports car         10689 non-null  uint8\n",
      " 52  vehicle_class_suv                10689 non-null  uint8\n",
      " 53  vehicle_class_two-door car       10689 non-null  uint8\n",
      " 54  vehicle_size_large               10689 non-null  uint8\n",
      " 55  vehicle_size_medsize             10689 non-null  uint8\n",
      " 56  vehicle_size_small               10689 non-null  uint8\n",
      "dtypes: uint8(57)\n",
      "memory usage: 595.1 KB\n"
     ]
    }
   ],
   "source": [
    "# One-hot encoding\n",
    "cat_one_hot = pd.get_dummies(categorical)\n",
    "cat_one_hot.info()"
   ]
  },
  {
   "cell_type": "code",
   "execution_count": 18,
   "metadata": {},
   "outputs": [
    {
     "data": {
      "text/html": [
       "<div>\n",
       "<style scoped>\n",
       "    .dataframe tbody tr th:only-of-type {\n",
       "        vertical-align: middle;\n",
       "    }\n",
       "\n",
       "    .dataframe tbody tr th {\n",
       "        vertical-align: top;\n",
       "    }\n",
       "\n",
       "    .dataframe thead th {\n",
       "        text-align: right;\n",
       "    }\n",
       "</style>\n",
       "<table border=\"1\" class=\"dataframe\">\n",
       "  <thead>\n",
       "    <tr style=\"text-align: right;\">\n",
       "      <th></th>\n",
       "      <th>region_central</th>\n",
       "      <th>region_east</th>\n",
       "      <th>region_north west</th>\n",
       "      <th>region_west region</th>\n",
       "      <th>response_no</th>\n",
       "      <th>response_yes</th>\n",
       "      <th>coverage_basic</th>\n",
       "      <th>coverage_extended</th>\n",
       "      <th>coverage_premium</th>\n",
       "      <th>education_bachelor</th>\n",
       "      <th>...</th>\n",
       "      <th>sales_channel_call center</th>\n",
       "      <th>sales_channel_web</th>\n",
       "      <th>vehicle_class_four-door car</th>\n",
       "      <th>vehicle_class_luxury vehicle</th>\n",
       "      <th>vehicle_class_sports car</th>\n",
       "      <th>vehicle_class_suv</th>\n",
       "      <th>vehicle_class_two-door car</th>\n",
       "      <th>vehicle_size_large</th>\n",
       "      <th>vehicle_size_medsize</th>\n",
       "      <th>vehicle_size_small</th>\n",
       "    </tr>\n",
       "  </thead>\n",
       "  <tbody>\n",
       "    <tr>\n",
       "      <th>0</th>\n",
       "      <td>1</td>\n",
       "      <td>0</td>\n",
       "      <td>0</td>\n",
       "      <td>0</td>\n",
       "      <td>1</td>\n",
       "      <td>0</td>\n",
       "      <td>1</td>\n",
       "      <td>0</td>\n",
       "      <td>0</td>\n",
       "      <td>0</td>\n",
       "      <td>...</td>\n",
       "      <td>0</td>\n",
       "      <td>0</td>\n",
       "      <td>1</td>\n",
       "      <td>0</td>\n",
       "      <td>0</td>\n",
       "      <td>0</td>\n",
       "      <td>0</td>\n",
       "      <td>0</td>\n",
       "      <td>1</td>\n",
       "      <td>0</td>\n",
       "    </tr>\n",
       "    <tr>\n",
       "      <th>1</th>\n",
       "      <td>0</td>\n",
       "      <td>0</td>\n",
       "      <td>0</td>\n",
       "      <td>1</td>\n",
       "      <td>1</td>\n",
       "      <td>0</td>\n",
       "      <td>1</td>\n",
       "      <td>0</td>\n",
       "      <td>0</td>\n",
       "      <td>0</td>\n",
       "      <td>...</td>\n",
       "      <td>1</td>\n",
       "      <td>0</td>\n",
       "      <td>1</td>\n",
       "      <td>0</td>\n",
       "      <td>0</td>\n",
       "      <td>0</td>\n",
       "      <td>0</td>\n",
       "      <td>0</td>\n",
       "      <td>1</td>\n",
       "      <td>0</td>\n",
       "    </tr>\n",
       "    <tr>\n",
       "      <th>2</th>\n",
       "      <td>0</td>\n",
       "      <td>1</td>\n",
       "      <td>0</td>\n",
       "      <td>0</td>\n",
       "      <td>1</td>\n",
       "      <td>0</td>\n",
       "      <td>1</td>\n",
       "      <td>0</td>\n",
       "      <td>0</td>\n",
       "      <td>1</td>\n",
       "      <td>...</td>\n",
       "      <td>1</td>\n",
       "      <td>0</td>\n",
       "      <td>0</td>\n",
       "      <td>0</td>\n",
       "      <td>0</td>\n",
       "      <td>1</td>\n",
       "      <td>0</td>\n",
       "      <td>0</td>\n",
       "      <td>1</td>\n",
       "      <td>0</td>\n",
       "    </tr>\n",
       "    <tr>\n",
       "      <th>3</th>\n",
       "      <td>0</td>\n",
       "      <td>0</td>\n",
       "      <td>1</td>\n",
       "      <td>0</td>\n",
       "      <td>0</td>\n",
       "      <td>1</td>\n",
       "      <td>0</td>\n",
       "      <td>1</td>\n",
       "      <td>0</td>\n",
       "      <td>0</td>\n",
       "      <td>...</td>\n",
       "      <td>0</td>\n",
       "      <td>0</td>\n",
       "      <td>1</td>\n",
       "      <td>0</td>\n",
       "      <td>0</td>\n",
       "      <td>0</td>\n",
       "      <td>0</td>\n",
       "      <td>0</td>\n",
       "      <td>1</td>\n",
       "      <td>0</td>\n",
       "    </tr>\n",
       "    <tr>\n",
       "      <th>4</th>\n",
       "      <td>0</td>\n",
       "      <td>0</td>\n",
       "      <td>1</td>\n",
       "      <td>0</td>\n",
       "      <td>1</td>\n",
       "      <td>0</td>\n",
       "      <td>0</td>\n",
       "      <td>0</td>\n",
       "      <td>1</td>\n",
       "      <td>1</td>\n",
       "      <td>...</td>\n",
       "      <td>0</td>\n",
       "      <td>0</td>\n",
       "      <td>1</td>\n",
       "      <td>0</td>\n",
       "      <td>0</td>\n",
       "      <td>0</td>\n",
       "      <td>0</td>\n",
       "      <td>0</td>\n",
       "      <td>1</td>\n",
       "      <td>0</td>\n",
       "    </tr>\n",
       "    <tr>\n",
       "      <th>...</th>\n",
       "      <td>...</td>\n",
       "      <td>...</td>\n",
       "      <td>...</td>\n",
       "      <td>...</td>\n",
       "      <td>...</td>\n",
       "      <td>...</td>\n",
       "      <td>...</td>\n",
       "      <td>...</td>\n",
       "      <td>...</td>\n",
       "      <td>...</td>\n",
       "      <td>...</td>\n",
       "      <td>...</td>\n",
       "      <td>...</td>\n",
       "      <td>...</td>\n",
       "      <td>...</td>\n",
       "      <td>...</td>\n",
       "      <td>...</td>\n",
       "      <td>...</td>\n",
       "      <td>...</td>\n",
       "      <td>...</td>\n",
       "      <td>...</td>\n",
       "    </tr>\n",
       "    <tr>\n",
       "      <th>10684</th>\n",
       "      <td>1</td>\n",
       "      <td>0</td>\n",
       "      <td>0</td>\n",
       "      <td>0</td>\n",
       "      <td>1</td>\n",
       "      <td>0</td>\n",
       "      <td>0</td>\n",
       "      <td>0</td>\n",
       "      <td>1</td>\n",
       "      <td>1</td>\n",
       "      <td>...</td>\n",
       "      <td>0</td>\n",
       "      <td>1</td>\n",
       "      <td>0</td>\n",
       "      <td>1</td>\n",
       "      <td>0</td>\n",
       "      <td>0</td>\n",
       "      <td>0</td>\n",
       "      <td>0</td>\n",
       "      <td>1</td>\n",
       "      <td>0</td>\n",
       "    </tr>\n",
       "    <tr>\n",
       "      <th>10685</th>\n",
       "      <td>0</td>\n",
       "      <td>0</td>\n",
       "      <td>1</td>\n",
       "      <td>0</td>\n",
       "      <td>1</td>\n",
       "      <td>0</td>\n",
       "      <td>1</td>\n",
       "      <td>0</td>\n",
       "      <td>0</td>\n",
       "      <td>0</td>\n",
       "      <td>...</td>\n",
       "      <td>0</td>\n",
       "      <td>0</td>\n",
       "      <td>1</td>\n",
       "      <td>0</td>\n",
       "      <td>0</td>\n",
       "      <td>0</td>\n",
       "      <td>0</td>\n",
       "      <td>0</td>\n",
       "      <td>1</td>\n",
       "      <td>0</td>\n",
       "    </tr>\n",
       "    <tr>\n",
       "      <th>10686</th>\n",
       "      <td>1</td>\n",
       "      <td>0</td>\n",
       "      <td>0</td>\n",
       "      <td>0</td>\n",
       "      <td>1</td>\n",
       "      <td>0</td>\n",
       "      <td>0</td>\n",
       "      <td>1</td>\n",
       "      <td>0</td>\n",
       "      <td>1</td>\n",
       "      <td>...</td>\n",
       "      <td>0</td>\n",
       "      <td>1</td>\n",
       "      <td>0</td>\n",
       "      <td>1</td>\n",
       "      <td>0</td>\n",
       "      <td>0</td>\n",
       "      <td>0</td>\n",
       "      <td>0</td>\n",
       "      <td>1</td>\n",
       "      <td>0</td>\n",
       "    </tr>\n",
       "    <tr>\n",
       "      <th>10687</th>\n",
       "      <td>0</td>\n",
       "      <td>0</td>\n",
       "      <td>0</td>\n",
       "      <td>1</td>\n",
       "      <td>1</td>\n",
       "      <td>0</td>\n",
       "      <td>0</td>\n",
       "      <td>0</td>\n",
       "      <td>1</td>\n",
       "      <td>0</td>\n",
       "      <td>...</td>\n",
       "      <td>0</td>\n",
       "      <td>0</td>\n",
       "      <td>0</td>\n",
       "      <td>0</td>\n",
       "      <td>0</td>\n",
       "      <td>1</td>\n",
       "      <td>0</td>\n",
       "      <td>0</td>\n",
       "      <td>1</td>\n",
       "      <td>0</td>\n",
       "    </tr>\n",
       "    <tr>\n",
       "      <th>10688</th>\n",
       "      <td>1</td>\n",
       "      <td>0</td>\n",
       "      <td>0</td>\n",
       "      <td>0</td>\n",
       "      <td>1</td>\n",
       "      <td>0</td>\n",
       "      <td>1</td>\n",
       "      <td>0</td>\n",
       "      <td>0</td>\n",
       "      <td>1</td>\n",
       "      <td>...</td>\n",
       "      <td>0</td>\n",
       "      <td>1</td>\n",
       "      <td>0</td>\n",
       "      <td>0</td>\n",
       "      <td>0</td>\n",
       "      <td>1</td>\n",
       "      <td>0</td>\n",
       "      <td>0</td>\n",
       "      <td>1</td>\n",
       "      <td>0</td>\n",
       "    </tr>\n",
       "  </tbody>\n",
       "</table>\n",
       "<p>10689 rows × 57 columns</p>\n",
       "</div>"
      ],
      "text/plain": [
       "       region_central  region_east  region_north west  region_west region  \\\n",
       "0                   1            0                  0                   0   \n",
       "1                   0            0                  0                   1   \n",
       "2                   0            1                  0                   0   \n",
       "3                   0            0                  1                   0   \n",
       "4                   0            0                  1                   0   \n",
       "...               ...          ...                ...                 ...   \n",
       "10684               1            0                  0                   0   \n",
       "10685               0            0                  1                   0   \n",
       "10686               1            0                  0                   0   \n",
       "10687               0            0                  0                   1   \n",
       "10688               1            0                  0                   0   \n",
       "\n",
       "       response_no  response_yes  coverage_basic  coverage_extended  \\\n",
       "0                1             0               1                  0   \n",
       "1                1             0               1                  0   \n",
       "2                1             0               1                  0   \n",
       "3                0             1               0                  1   \n",
       "4                1             0               0                  0   \n",
       "...            ...           ...             ...                ...   \n",
       "10684            1             0               0                  0   \n",
       "10685            1             0               1                  0   \n",
       "10686            1             0               0                  1   \n",
       "10687            1             0               0                  0   \n",
       "10688            1             0               1                  0   \n",
       "\n",
       "       coverage_premium  education_bachelor  ...  sales_channel_call center  \\\n",
       "0                     0                   0  ...                          0   \n",
       "1                     0                   0  ...                          1   \n",
       "2                     0                   1  ...                          1   \n",
       "3                     0                   0  ...                          0   \n",
       "4                     1                   1  ...                          0   \n",
       "...                 ...                 ...  ...                        ...   \n",
       "10684                 1                   1  ...                          0   \n",
       "10685                 0                   0  ...                          0   \n",
       "10686                 0                   1  ...                          0   \n",
       "10687                 1                   0  ...                          0   \n",
       "10688                 0                   1  ...                          0   \n",
       "\n",
       "       sales_channel_web  vehicle_class_four-door car  \\\n",
       "0                      0                            1   \n",
       "1                      0                            1   \n",
       "2                      0                            0   \n",
       "3                      0                            1   \n",
       "4                      0                            1   \n",
       "...                  ...                          ...   \n",
       "10684                  1                            0   \n",
       "10685                  0                            1   \n",
       "10686                  1                            0   \n",
       "10687                  0                            0   \n",
       "10688                  1                            0   \n",
       "\n",
       "       vehicle_class_luxury vehicle  vehicle_class_sports car  \\\n",
       "0                                 0                         0   \n",
       "1                                 0                         0   \n",
       "2                                 0                         0   \n",
       "3                                 0                         0   \n",
       "4                                 0                         0   \n",
       "...                             ...                       ...   \n",
       "10684                             1                         0   \n",
       "10685                             0                         0   \n",
       "10686                             1                         0   \n",
       "10687                             0                         0   \n",
       "10688                             0                         0   \n",
       "\n",
       "       vehicle_class_suv  vehicle_class_two-door car  vehicle_size_large  \\\n",
       "0                      0                           0                   0   \n",
       "1                      0                           0                   0   \n",
       "2                      1                           0                   0   \n",
       "3                      0                           0                   0   \n",
       "4                      0                           0                   0   \n",
       "...                  ...                         ...                 ...   \n",
       "10684                  0                           0                   0   \n",
       "10685                  0                           0                   0   \n",
       "10686                  0                           0                   0   \n",
       "10687                  1                           0                   0   \n",
       "10688                  1                           0                   0   \n",
       "\n",
       "       vehicle_size_medsize  vehicle_size_small  \n",
       "0                         1                   0  \n",
       "1                         1                   0  \n",
       "2                         1                   0  \n",
       "3                         1                   0  \n",
       "4                         1                   0  \n",
       "...                     ...                 ...  \n",
       "10684                     1                   0  \n",
       "10685                     1                   0  \n",
       "10686                     1                   0  \n",
       "10687                     1                   0  \n",
       "10688                     1                   0  \n",
       "\n",
       "[10689 rows x 57 columns]"
      ]
     },
     "execution_count": 18,
     "metadata": {},
     "output_type": "execute_result"
    }
   ],
   "source": [
    "cat_one_hot"
   ]
  },
  {
   "cell_type": "code",
   "execution_count": 19,
   "metadata": {},
   "outputs": [
    {
     "name": "stdout",
     "output_type": "stream",
     "text": [
      "<class 'pandas.core.frame.DataFrame'>\n",
      "RangeIndex: 10689 entries, 0 to 10688\n",
      "Data columns (total 42 columns):\n",
      " #   Column                           Non-Null Count  Dtype\n",
      "---  ------                           --------------  -----\n",
      " 0   region_east                      10689 non-null  uint8\n",
      " 1   region_north west                10689 non-null  uint8\n",
      " 2   region_west region               10689 non-null  uint8\n",
      " 3   response_yes                     10689 non-null  uint8\n",
      " 4   coverage_extended                10689 non-null  uint8\n",
      " 5   coverage_premium                 10689 non-null  uint8\n",
      " 6   education_college                10689 non-null  uint8\n",
      " 7   education_doctor                 10689 non-null  uint8\n",
      " 8   education_high school or below   10689 non-null  uint8\n",
      " 9   education_master                 10689 non-null  uint8\n",
      " 10  month_jan                        10689 non-null  uint8\n",
      " 11  employment_status_employed       10689 non-null  uint8\n",
      " 12  employment_status_medical leave  10689 non-null  uint8\n",
      " 13  employment_status_retired        10689 non-null  uint8\n",
      " 14  employment_status_unemployed     10689 non-null  uint8\n",
      " 15  gender_m                         10689 non-null  uint8\n",
      " 16  location_code_suburban           10689 non-null  uint8\n",
      " 17  location_code_urban              10689 non-null  uint8\n",
      " 18  marital_status_married           10689 non-null  uint8\n",
      " 19  marital_status_single            10689 non-null  uint8\n",
      " 20  policy_type_personal auto        10689 non-null  uint8\n",
      " 21  policy_type_special auto         10689 non-null  uint8\n",
      " 22  policy_corporate l2              10689 non-null  uint8\n",
      " 23  policy_corporate l3              10689 non-null  uint8\n",
      " 24  policy_personal l1               10689 non-null  uint8\n",
      " 25  policy_personal l2               10689 non-null  uint8\n",
      " 26  policy_personal l3               10689 non-null  uint8\n",
      " 27  policy_special l1                10689 non-null  uint8\n",
      " 28  policy_special l2                10689 non-null  uint8\n",
      " 29  policy_special l3                10689 non-null  uint8\n",
      " 30  renew_offer_type_offer2          10689 non-null  uint8\n",
      " 31  renew_offer_type_offer3          10689 non-null  uint8\n",
      " 32  renew_offer_type_offer4          10689 non-null  uint8\n",
      " 33  sales_channel_branch             10689 non-null  uint8\n",
      " 34  sales_channel_call center        10689 non-null  uint8\n",
      " 35  sales_channel_web                10689 non-null  uint8\n",
      " 36  vehicle_class_luxury vehicle     10689 non-null  uint8\n",
      " 37  vehicle_class_sports car         10689 non-null  uint8\n",
      " 38  vehicle_class_suv                10689 non-null  uint8\n",
      " 39  vehicle_class_two-door car       10689 non-null  uint8\n",
      " 40  vehicle_size_medsize             10689 non-null  uint8\n",
      " 41  vehicle_size_small               10689 non-null  uint8\n",
      "dtypes: uint8(42)\n",
      "memory usage: 438.5 KB\n"
     ]
    }
   ],
   "source": [
    "cat_one_hot_drop_first = pd.get_dummies(categorical,\\\n",
    "                                        # The columns parameter specifies the columns to be one-hot encoded\n",
    "                                        columns=categorical.columns,\\\n",
    "                                        # the prefix parameter specifies a prefix to be added to the column names\n",
    "                                        prefix=categorical.columns,\\\n",
    "                                        # the first level of each categorical variable is dropped to avoid perfect multicollinearity\n",
    "                                        drop_first=True)\n",
    "cat_one_hot_drop_first.info()"
   ]
  },
  {
   "cell_type": "code",
   "execution_count": 20,
   "metadata": {},
   "outputs": [
    {
     "name": "stdout",
     "output_type": "stream",
     "text": [
      "<class 'pandas.core.frame.DataFrame'>\n",
      "RangeIndex: 10689 entries, 0 to 10688\n",
      "Data columns (total 15 columns):\n",
      " #   Column             Non-Null Count  Dtype\n",
      "---  ------             --------------  -----\n",
      " 0   region             10689 non-null  int8 \n",
      " 1   response           10689 non-null  int8 \n",
      " 2   coverage           10689 non-null  int8 \n",
      " 3   education          10689 non-null  int8 \n",
      " 4   month              10689 non-null  int8 \n",
      " 5   employment_status  10689 non-null  int8 \n",
      " 6   gender             10689 non-null  int8 \n",
      " 7   location_code      10689 non-null  int8 \n",
      " 8   marital_status     10689 non-null  int8 \n",
      " 9   policy_type        10689 non-null  int8 \n",
      " 10  policy             10689 non-null  int8 \n",
      " 11  renew_offer_type   10689 non-null  int8 \n",
      " 12  sales_channel      10689 non-null  int8 \n",
      " 13  vehicle_class      10689 non-null  int8 \n",
      " 14  vehicle_size       10689 non-null  int8 \n",
      "dtypes: int8(15)\n",
      "memory usage: 156.7 KB\n"
     ]
    }
   ],
   "source": [
    "# Label encoding using pandas.Series.cat.codes\n",
    "cat_label = categorical.copy()\n",
    "for col in categorical.columns:\n",
    "    cat_label[col] = categorical[col].astype('category')\n",
    "    cat_label[col] = cat_label[col].cat.codes\n",
    "    \n",
    "cat_label.info()"
   ]
  },
  {
   "cell_type": "code",
   "execution_count": 21,
   "metadata": {},
   "outputs": [
    {
     "name": "stdout",
     "output_type": "stream",
     "text": [
      "<class 'pandas.core.frame.DataFrame'>\n",
      "RangeIndex: 10689 entries, 0 to 10688\n",
      "Data columns (total 15 columns):\n",
      " #   Column             Non-Null Count  Dtype\n",
      "---  ------             --------------  -----\n",
      " 0   region             10689 non-null  int8 \n",
      " 1   response           10689 non-null  int8 \n",
      " 2   coverage           10689 non-null  int8 \n",
      " 3   education          10689 non-null  int8 \n",
      " 4   month              10689 non-null  int8 \n",
      " 5   employment_status  10689 non-null  int8 \n",
      " 6   gender             10689 non-null  int8 \n",
      " 7   location_code      10689 non-null  int8 \n",
      " 8   marital_status     10689 non-null  int8 \n",
      " 9   policy_type        10689 non-null  int8 \n",
      " 10  policy             10689 non-null  int8 \n",
      " 11  renew_offer_type   10689 non-null  int8 \n",
      " 12  sales_channel      10689 non-null  int8 \n",
      " 13  vehicle_class      10689 non-null  int8 \n",
      " 14  vehicle_size       10689 non-null  int8 \n",
      "dtypes: int8(15)\n",
      "memory usage: 156.7 KB\n"
     ]
    }
   ],
   "source": [
    "# Label encoding using the astype method and cat.codes attribute of pandas\n",
    "cat_label = categorical.copy()\n",
    "for col in categorical.columns:\n",
    "    cat_label[col] = categorical[col].astype('category')\n",
    "    cat_label[col] = cat_label[col].cat.codes\n",
    "    \n",
    "cat_label.info()"
   ]
  },
  {
   "cell_type": "code",
   "execution_count": 22,
   "metadata": {},
   "outputs": [
    {
     "data": {
      "text/html": [
       "<div>\n",
       "<style scoped>\n",
       "    .dataframe tbody tr th:only-of-type {\n",
       "        vertical-align: middle;\n",
       "    }\n",
       "\n",
       "    .dataframe tbody tr th {\n",
       "        vertical-align: top;\n",
       "    }\n",
       "\n",
       "    .dataframe thead th {\n",
       "        text-align: right;\n",
       "    }\n",
       "</style>\n",
       "<table border=\"1\" class=\"dataframe\">\n",
       "  <thead>\n",
       "    <tr style=\"text-align: right;\">\n",
       "      <th></th>\n",
       "      <th>region</th>\n",
       "      <th>response</th>\n",
       "      <th>coverage</th>\n",
       "      <th>education</th>\n",
       "      <th>month</th>\n",
       "      <th>employment_status</th>\n",
       "      <th>gender</th>\n",
       "      <th>location_code</th>\n",
       "      <th>marital_status</th>\n",
       "      <th>policy_type</th>\n",
       "      <th>policy</th>\n",
       "      <th>renew_offer_type</th>\n",
       "      <th>sales_channel</th>\n",
       "      <th>vehicle_class</th>\n",
       "      <th>vehicle_size</th>\n",
       "    </tr>\n",
       "  </thead>\n",
       "  <tbody>\n",
       "    <tr>\n",
       "      <th>0</th>\n",
       "      <td>0</td>\n",
       "      <td>0</td>\n",
       "      <td>0</td>\n",
       "      <td>1</td>\n",
       "      <td>0</td>\n",
       "      <td>1</td>\n",
       "      <td>1</td>\n",
       "      <td>1</td>\n",
       "      <td>1</td>\n",
       "      <td>0</td>\n",
       "      <td>2</td>\n",
       "      <td>2</td>\n",
       "      <td>0</td>\n",
       "      <td>0</td>\n",
       "      <td>1</td>\n",
       "    </tr>\n",
       "    <tr>\n",
       "      <th>1</th>\n",
       "      <td>3</td>\n",
       "      <td>0</td>\n",
       "      <td>0</td>\n",
       "      <td>1</td>\n",
       "      <td>1</td>\n",
       "      <td>4</td>\n",
       "      <td>0</td>\n",
       "      <td>1</td>\n",
       "      <td>2</td>\n",
       "      <td>1</td>\n",
       "      <td>5</td>\n",
       "      <td>3</td>\n",
       "      <td>2</td>\n",
       "      <td>0</td>\n",
       "      <td>1</td>\n",
       "    </tr>\n",
       "    <tr>\n",
       "      <th>2</th>\n",
       "      <td>1</td>\n",
       "      <td>0</td>\n",
       "      <td>0</td>\n",
       "      <td>0</td>\n",
       "      <td>0</td>\n",
       "      <td>1</td>\n",
       "      <td>1</td>\n",
       "      <td>1</td>\n",
       "      <td>2</td>\n",
       "      <td>1</td>\n",
       "      <td>5</td>\n",
       "      <td>2</td>\n",
       "      <td>2</td>\n",
       "      <td>3</td>\n",
       "      <td>1</td>\n",
       "    </tr>\n",
       "    <tr>\n",
       "      <th>3</th>\n",
       "      <td>2</td>\n",
       "      <td>1</td>\n",
       "      <td>1</td>\n",
       "      <td>1</td>\n",
       "      <td>1</td>\n",
       "      <td>1</td>\n",
       "      <td>1</td>\n",
       "      <td>1</td>\n",
       "      <td>2</td>\n",
       "      <td>0</td>\n",
       "      <td>2</td>\n",
       "      <td>1</td>\n",
       "      <td>1</td>\n",
       "      <td>0</td>\n",
       "      <td>1</td>\n",
       "    </tr>\n",
       "    <tr>\n",
       "      <th>4</th>\n",
       "      <td>2</td>\n",
       "      <td>0</td>\n",
       "      <td>2</td>\n",
       "      <td>0</td>\n",
       "      <td>1</td>\n",
       "      <td>2</td>\n",
       "      <td>0</td>\n",
       "      <td>1</td>\n",
       "      <td>1</td>\n",
       "      <td>1</td>\n",
       "      <td>4</td>\n",
       "      <td>0</td>\n",
       "      <td>1</td>\n",
       "      <td>0</td>\n",
       "      <td>1</td>\n",
       "    </tr>\n",
       "    <tr>\n",
       "      <th>...</th>\n",
       "      <td>...</td>\n",
       "      <td>...</td>\n",
       "      <td>...</td>\n",
       "      <td>...</td>\n",
       "      <td>...</td>\n",
       "      <td>...</td>\n",
       "      <td>...</td>\n",
       "      <td>...</td>\n",
       "      <td>...</td>\n",
       "      <td>...</td>\n",
       "      <td>...</td>\n",
       "      <td>...</td>\n",
       "      <td>...</td>\n",
       "      <td>...</td>\n",
       "      <td>...</td>\n",
       "    </tr>\n",
       "    <tr>\n",
       "      <th>10684</th>\n",
       "      <td>0</td>\n",
       "      <td>0</td>\n",
       "      <td>2</td>\n",
       "      <td>0</td>\n",
       "      <td>1</td>\n",
       "      <td>4</td>\n",
       "      <td>0</td>\n",
       "      <td>1</td>\n",
       "      <td>1</td>\n",
       "      <td>1</td>\n",
       "      <td>3</td>\n",
       "      <td>2</td>\n",
       "      <td>3</td>\n",
       "      <td>1</td>\n",
       "      <td>1</td>\n",
       "    </tr>\n",
       "    <tr>\n",
       "      <th>10685</th>\n",
       "      <td>2</td>\n",
       "      <td>0</td>\n",
       "      <td>0</td>\n",
       "      <td>1</td>\n",
       "      <td>1</td>\n",
       "      <td>1</td>\n",
       "      <td>0</td>\n",
       "      <td>2</td>\n",
       "      <td>1</td>\n",
       "      <td>1</td>\n",
       "      <td>5</td>\n",
       "      <td>1</td>\n",
       "      <td>1</td>\n",
       "      <td>0</td>\n",
       "      <td>1</td>\n",
       "    </tr>\n",
       "    <tr>\n",
       "      <th>10686</th>\n",
       "      <td>0</td>\n",
       "      <td>0</td>\n",
       "      <td>1</td>\n",
       "      <td>0</td>\n",
       "      <td>0</td>\n",
       "      <td>1</td>\n",
       "      <td>0</td>\n",
       "      <td>0</td>\n",
       "      <td>1</td>\n",
       "      <td>0</td>\n",
       "      <td>2</td>\n",
       "      <td>0</td>\n",
       "      <td>3</td>\n",
       "      <td>1</td>\n",
       "      <td>1</td>\n",
       "    </tr>\n",
       "    <tr>\n",
       "      <th>10687</th>\n",
       "      <td>3</td>\n",
       "      <td>0</td>\n",
       "      <td>2</td>\n",
       "      <td>1</td>\n",
       "      <td>0</td>\n",
       "      <td>1</td>\n",
       "      <td>0</td>\n",
       "      <td>2</td>\n",
       "      <td>0</td>\n",
       "      <td>1</td>\n",
       "      <td>3</td>\n",
       "      <td>0</td>\n",
       "      <td>1</td>\n",
       "      <td>3</td>\n",
       "      <td>1</td>\n",
       "    </tr>\n",
       "    <tr>\n",
       "      <th>10688</th>\n",
       "      <td>0</td>\n",
       "      <td>0</td>\n",
       "      <td>0</td>\n",
       "      <td>0</td>\n",
       "      <td>1</td>\n",
       "      <td>4</td>\n",
       "      <td>1</td>\n",
       "      <td>1</td>\n",
       "      <td>2</td>\n",
       "      <td>1</td>\n",
       "      <td>3</td>\n",
       "      <td>3</td>\n",
       "      <td>3</td>\n",
       "      <td>3</td>\n",
       "      <td>1</td>\n",
       "    </tr>\n",
       "  </tbody>\n",
       "</table>\n",
       "<p>10689 rows × 15 columns</p>\n",
       "</div>"
      ],
      "text/plain": [
       "       region  response  coverage  education  month  employment_status  \\\n",
       "0           0         0         0          1      0                  1   \n",
       "1           3         0         0          1      1                  4   \n",
       "2           1         0         0          0      0                  1   \n",
       "3           2         1         1          1      1                  1   \n",
       "4           2         0         2          0      1                  2   \n",
       "...       ...       ...       ...        ...    ...                ...   \n",
       "10684       0         0         2          0      1                  4   \n",
       "10685       2         0         0          1      1                  1   \n",
       "10686       0         0         1          0      0                  1   \n",
       "10687       3         0         2          1      0                  1   \n",
       "10688       0         0         0          0      1                  4   \n",
       "\n",
       "       gender  location_code  marital_status  policy_type  policy  \\\n",
       "0           1              1               1            0       2   \n",
       "1           0              1               2            1       5   \n",
       "2           1              1               2            1       5   \n",
       "3           1              1               2            0       2   \n",
       "4           0              1               1            1       4   \n",
       "...       ...            ...             ...          ...     ...   \n",
       "10684       0              1               1            1       3   \n",
       "10685       0              2               1            1       5   \n",
       "10686       0              0               1            0       2   \n",
       "10687       0              2               0            1       3   \n",
       "10688       1              1               2            1       3   \n",
       "\n",
       "       renew_offer_type  sales_channel  vehicle_class  vehicle_size  \n",
       "0                     2              0              0             1  \n",
       "1                     3              2              0             1  \n",
       "2                     2              2              3             1  \n",
       "3                     1              1              0             1  \n",
       "4                     0              1              0             1  \n",
       "...                 ...            ...            ...           ...  \n",
       "10684                 2              3              1             1  \n",
       "10685                 1              1              0             1  \n",
       "10686                 0              3              1             1  \n",
       "10687                 0              1              3             1  \n",
       "10688                 3              3              3             1  \n",
       "\n",
       "[10689 rows x 15 columns]"
      ]
     },
     "execution_count": 22,
     "metadata": {},
     "output_type": "execute_result"
    }
   ],
   "source": [
    "# Label encoding using the LabelEncoder class\n",
    "cat_label_labelencoder = categorical.copy()\n",
    "\n",
    "from sklearn.preprocessing import LabelEncoder\n",
    "\n",
    "label_encoder = LabelEncoder()\n",
    "\n",
    "cat_label_labelencoder = categorical.apply(lambda x: label_encoder.fit_transform(x))\n",
    "cat_label_labelencoder"
   ]
  },
  {
   "cell_type": "markdown",
   "metadata": {},
   "source": [
    "### 4. Transforming Numerical Data"
   ]
  },
  {
   "cell_type": "markdown",
   "metadata": {},
   "source": [
    "#### 4.1. Min-Max Normalizing a Numerical Variable"
   ]
  },
  {
   "cell_type": "code",
   "execution_count": 37,
   "metadata": {},
   "outputs": [
    {
     "data": {
      "text/plain": [
       "array([[0.42239616],\n",
       "       [0.9141577 ],\n",
       "       [0.13455039],\n",
       "       ...,\n",
       "       [0.33131726],\n",
       "       [0.60213021],\n",
       "       [0.6549075 ]])"
      ]
     },
     "execution_count": 37,
     "metadata": {},
     "output_type": "execute_result"
    }
   ],
   "source": [
    "# Convert a column of a Pandas DataFrame into a NumPy array\n",
    "varA = numerical[['income']]\n",
    "\n",
    "# Min-Max normalize `varA` manually\n",
    "# varA_min_max_norm = (varA - np.min(varA)) / (np.max(varA) - np.min(varA))\n",
    "# varA_min_max_norm\n",
    "\n",
    "# Min-Max normalize `varA` using minmax_scale()\n",
    "from sklearn.preprocessing import minmax_scale\n",
    "varA_min_max_norm = minmax_scale(varA)\n",
    "varA_min_max_norm"
   ]
  },
  {
   "cell_type": "code",
   "execution_count": 38,
   "metadata": {},
   "outputs": [
    {
     "data": {
      "text/plain": [
       "Text(0.5, 1.0, 'Distribution of VarA')"
      ]
     },
     "execution_count": 38,
     "metadata": {},
     "output_type": "execute_result"
    },
    {
     "data": {
      "image/png": "[encoded data removed]",
      "text/plain": [
       "<Figure size 432.5x360 with 1 Axes>"
      ]
     },
     "metadata": {
      "needs_background": "light"
     },
     "output_type": "display_data"
    }
   ],
   "source": [
    "# creating a countplot for 'varA'\n",
    "sns.displot(data = varA, palette='Blues')\n",
    "plt.title('Distribution of VarA', fontweight = 'bold')"
   ]
  },
  {
   "cell_type": "code",
   "execution_count": 39,
   "metadata": {},
   "outputs": [
    {
     "data": {
      "text/plain": [
       "Text(0.5, 1.0, 'Distribution of Min-Max Normalized VarA')"
      ]
     },
     "execution_count": 39,
     "metadata": {},
     "output_type": "execute_result"
    },
    {
     "data": {
      "image/png": "[encoded data removed]",
      "text/plain": [
       "<Figure size 402.375x360 with 1 Axes>"
      ]
     },
     "metadata": {
      "needs_background": "light"
     },
     "output_type": "display_data"
    }
   ],
   "source": [
    "# creating a countplot for 'varA'\n",
    "sns.displot(varA_min_max_norm)\n",
    "plt.title('Distribution of Min-Max Normalized VarA', fontweight = 'bold')"
   ]
  },
  {
   "cell_type": "markdown",
   "metadata": {},
   "source": [
    "#### 4.2. Standard Scalar Normalizing a Numerical Variable"
   ]
  },
  {
   "cell_type": "code",
   "execution_count": 26,
   "metadata": {},
   "outputs": [
    {
     "data": {
      "text/plain": [
       "array([[-0.46572586],\n",
       "       [-0.84102197],\n",
       "       [ 1.00841284],\n",
       "       ...,\n",
       "       [ 2.3092261 ],\n",
       "       [ 0.57568087],\n",
       "       [-0.16793181]])"
      ]
     },
     "execution_count": 26,
     "metadata": {},
     "output_type": "execute_result"
    }
   ],
   "source": [
    "# Select the column from the Pandas DataFrame as a DataFrame\n",
    "varB = numerical[['customer_lifetime_value']]\n",
    "\n",
    "from sklearn.preprocessing import StandardScaler\n",
    "\n",
    "# Create an instance of the PowerTransformer class\n",
    "scaler = StandardScaler()\n",
    "# Fit the transformer to the DataFrame\n",
    "scaler.fit(varB)\n",
    "# Transform the DataFrame using the fitted transformer\n",
    "varB_standard_scaler = scaler.transform(varB)\n",
    "\n",
    "varB_standard_scaler"
   ]
  },
  {
   "cell_type": "code",
   "execution_count": 27,
   "metadata": {},
   "outputs": [
    {
     "data": {
      "text/plain": [
       "Text(0.5, 1.0, 'Distribution of VarB')"
      ]
     },
     "execution_count": 27,
     "metadata": {},
     "output_type": "execute_result"
    },
    {
     "data": {
      "image/png": "[encoded data removed]",
      "text/plain": [
       "<Figure size 360x360 with 1 Axes>"
      ]
     },
     "metadata": {
      "needs_background": "light"
     },
     "output_type": "display_data"
    }
   ],
   "source": [
    "sns.displot(varB)\n",
    "plt.title('Distribution of VarB', fontweight = 'bold')"
   ]
  },
  {
   "cell_type": "code",
   "execution_count": 28,
   "metadata": {},
   "outputs": [
    {
     "data": {
      "text/plain": [
       "Text(0.5, 1.0, 'Distribution of Standard Scalar Normalized VarB')"
      ]
     },
     "execution_count": 28,
     "metadata": {},
     "output_type": "execute_result"
    },
    {
     "data": {
      "image/png": "[encoded data removed]",
      "text/plain": [
       "<Figure size 402.375x360 with 1 Axes>"
      ]
     },
     "metadata": {
      "needs_background": "light"
     },
     "output_type": "display_data"
    }
   ],
   "source": [
    "sns.displot(varB_standard_scaler)\n",
    "plt.title('Distribution of Standard Scalar Normalized VarB', fontweight = 'bold')"
   ]
  },
  {
   "cell_type": "code",
   "execution_count": 29,
   "metadata": {
    "scrolled": true
   },
   "outputs": [
    {
     "name": "stdout",
     "output_type": "stream",
     "text": [
      "Mean: 1.595380826854e-17\n",
      "Standard Deviation: 1.0\n"
     ]
    }
   ],
   "source": [
    "# Check normalization\n",
    "\n",
    "def check_norm(varB):\n",
    "    # Check mean\n",
    "    mean = np.mean(varB)\n",
    "    print(\"Mean:\", mean)\n",
    "    \n",
    "    # Check standard deviation\n",
    "    std = np.std(varB)\n",
    "    print(\"Standard Deviation:\", std)\n",
    "\n",
    "check_norm(varB_standard_scaler)"
   ]
  },
  {
   "cell_type": "markdown",
   "metadata": {},
   "source": [
    "#### 4.3. Power Transform Normalizing a Numerical Variable"
   ]
  },
  {
   "cell_type": "markdown",
   "metadata": {},
   "source": [
    "##### 4.3.1. Box-Cox Power Transform Normalization"
   ]
  },
  {
   "cell_type": "code",
   "execution_count": 36,
   "metadata": {},
   "outputs": [
    {
     "data": {
      "text/plain": [
       "array([[-0.3361235 ],\n",
       "       [-1.8672622 ],\n",
       "       [ 1.29224877],\n",
       "       ...,\n",
       "       [ 1.79972704],\n",
       "       [ 1.02172022],\n",
       "       [ 0.24359579]])"
      ]
     },
     "execution_count": 36,
     "metadata": {},
     "output_type": "execute_result"
    }
   ],
   "source": [
    "varB = numerical[['customer_lifetime_value']]\n",
    "\n",
    "from sklearn.preprocessing import PowerTransformer\n",
    "\n",
    "transformer = PowerTransformer(method='box-cox')\n",
    "\n",
    "# Fit and transform the DataFrame using the 'box-cox' method\n",
    "varB_box_cox = transformer.fit_transform(varB)\n",
    "\n",
    "varB_box_cox"
   ]
  },
  {
   "cell_type": "code",
   "execution_count": 31,
   "metadata": {},
   "outputs": [
    {
     "name": "stdout",
     "output_type": "stream",
     "text": [
      "Mean: -3.792353173834196e-15\n",
      "Standard Deviation: 1.0\n"
     ]
    },
    {
     "data": {
      "text/plain": [
       "Text(0.5, 1.0, 'Distribution of Box-Cox Power Transform Nomalized VarB')"
      ]
     },
     "execution_count": 31,
     "metadata": {},
     "output_type": "execute_result"
    },
    {
     "data": {
      "image/png": "[encoded data removed]",
      "text/plain": [
       "<Figure size 402.375x360 with 1 Axes>"
      ]
     },
     "metadata": {
      "needs_background": "light"
     },
     "output_type": "display_data"
    }
   ],
   "source": [
    "# Check normalization\n",
    "check_norm(varB_box_cox)\n",
    "\n",
    "# creating a countplot\n",
    "sns.displot(varB_box_cox)\n",
    "plt.title('Distribution of Box-Cox Power Transform Nomalized VarB', fontweight = 'bold')"
   ]
  },
  {
   "cell_type": "markdown",
   "metadata": {},
   "source": [
    "##### 4.3.2. Yeo-Johnson Power Transform Normalization"
   ]
  },
  {
   "cell_type": "code",
   "execution_count": 35,
   "metadata": {},
   "outputs": [
    {
     "data": {
      "text/plain": [
       "array([[-0.33614341],\n",
       "       [-1.86720472],\n",
       "       [ 1.2922699 ],\n",
       "       ...,\n",
       "       [ 1.79973101],\n",
       "       [ 1.0217405 ],\n",
       "       [ 0.24359374]])"
      ]
     },
     "execution_count": 35,
     "metadata": {},
     "output_type": "execute_result"
    }
   ],
   "source": [
    "# Convert a column of a Pandas DataFrame into a NumPy array\n",
    "varB = numerical[['customer_lifetime_value']]\n",
    "\n",
    "from sklearn.preprocessing import PowerTransformer\n",
    "\n",
    "transformer = PowerTransformer(method='yeo-johnson')\n",
    "varB_yeo_johnson = transformer.fit_transform(varB.reshape(-1, 1))\n",
    "\n",
    "varB_yeo_johnson"
   ]
  },
  {
   "cell_type": "code",
   "execution_count": 33,
   "metadata": {},
   "outputs": [
    {
     "name": "stdout",
     "output_type": "stream",
     "text": [
      "Mean: 4.18787467049175e-15\n",
      "Standard Deviation: 1.0000000000000002\n"
     ]
    },
    {
     "data": {
      "text/plain": [
       "Text(0.5, 1.0, 'Distribution of Yeo-Johnson Power Transform Nomalized VarB')"
      ]
     },
     "execution_count": 33,
     "metadata": {},
     "output_type": "execute_result"
    },
    {
     "data": {
      "image/png": "[encoded data removed]",
      "text/plain": [
       "<Figure size 402.375x360 with 1 Axes>"
      ]
     },
     "metadata": {
      "needs_background": "light"
     },
     "output_type": "display_data"
    }
   ],
   "source": [
    "# checking normalization\n",
    "check_norm(varB_yeo_johnson)\n",
    "\n",
    "# creating a countplot\n",
    "sns.displot(varB_yeo_johnson)\n",
    "plt.title('Distribution of Yeo-Johnson Power Transform Nomalized VarB', fontweight = 'bold')"
   ]
  }
 ],
 "metadata": {
  "colab": {
   "name": "Intro to Pandas - \"Healthcare for All\" Code Along - Structure.ipynb",
   "provenance": [],
   "toc_visible": true
  },
  "kernelspec": {
   "display_name": "Python 3 (ipykernel)",
   "language": "python",
   "name": "python3"
  },
  "language_info": {
   "codemirror_mode": {
    "name": "ipython",
    "version": 3
   },
   "file_extension": ".py",
   "mimetype": "text/x-python",
   "name": "python",
   "nbconvert_exporter": "python",
   "pygments_lexer": "ipython3",
   "version": "3.9.12"
  },
  "toc": {
   "base_numbering": 1,
   "nav_menu": {},
   "number_sections": false,
   "sideBar": true,
   "skip_h1_title": false,
   "title_cell": "Table of Contents",
   "title_sidebar": "Contents",
   "toc_cell": false,
   "toc_position": {},
   "toc_section_display": true,
   "toc_window_display": false
  },
  "varInspector": {
   "cols": {
    "lenName": 16,
    "lenType": 16,
    "lenVar": 40
   },
   "kernels_config": {
    "python": {
     "delete_cmd_postfix": "",
     "delete_cmd_prefix": "del ",
     "library": "var_list.py",
     "varRefreshCmd": "print(var_dic_list())"
    },
    "r": {
     "delete_cmd_postfix": ") ",
     "delete_cmd_prefix": "rm(",
     "library": "var_list.r",
     "varRefreshCmd": "cat(var_dic_list()) "
    }
   },
   "types_to_exclude": [
    "module",
    "function",
    "builtin_function_or_method",
    "instance",
    "_Feature"
   ],
   "window_display": false
  }
 },
 "nbformat": 4,
 "nbformat_minor": 1
}
